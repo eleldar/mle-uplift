{
 "cells": [
  {
   "cell_type": "code",
   "execution_count": 1,
   "id": "5ada41ac-a133-4ce3-b4a1-9633bd444023",
   "metadata": {},
   "outputs": [],
   "source": [
    "# !pip install -q pandas\n",
    "# pip install -q matplotlib\n",
    "# !pip install -q scikit-learn"
   ]
  },
  {
   "cell_type": "markdown",
   "id": "9fd59f4e-e041-44c7-b91f-8abb422c7ed5",
   "metadata": {},
   "source": [
    "# Qini-кривая и оценка качества офлайн"
   ]
  },
  {
   "cell_type": "markdown",
   "id": "5f86cf84-3c60-43f9-8a5f-3ba76544101c",
   "metadata": {},
   "source": [
    "## Шаг 1: Сбор данных\n",
    "\n",
    "Предположим, у вас есть данные для 100 пользователей:\n",
    "- 50 пользователей получили рекламное предложение (группа воздействия).\n",
    "- 50 пользователей не получили предложение (контрольная группа)."
   ]
  },
  {
   "cell_type": "code",
   "execution_count": 2,
   "id": "41e771b7-fb0d-4ddf-878e-25e45d4e74ed",
   "metadata": {},
   "outputs": [
    {
     "name": "stdout",
     "output_type": "stream",
     "text": [
      "   user_id  treatment  outcome  uplift_prediction\n",
      "0        1          1        0           0.031429\n",
      "1        2          1        0           0.636410\n",
      "2        3          1        0           0.314356\n",
      "3        4          1        0           0.508571\n",
      "4        5          1        1           0.907566\n"
     ]
    }
   ],
   "source": [
    "import pandas as pd\n",
    "import numpy as np\n",
    "\n",
    "# генерация данных для 100 пользователей\n",
    "np.random.seed(42)\n",
    "n = 100\n",
    "treatment = np.array([1]*50 + [0]*50)\n",
    "outcome = np.concatenate([np.random.choice([1, 0], p=[0.2, 0.8], size=50),\n",
    "                          np.random.choice([1, 0], p=[0.1, 0.9], size=50)])\n",
    "uplift_prediction = np.random.rand(n)\n",
    "\n",
    "# создание DataFrame\n",
    "data = {\n",
    "    'user_id': range(1, n+1),\n",
    "    'treatment': treatment,  # получение рекламных предложений\n",
    "    'outcome': outcome,      # полученная реакция\n",
    "    'uplift_prediction': uplift_prediction\n",
    "}\n",
    "\n",
    "df = pd.DataFrame(data)\n",
    "print(df.head())"
   ]
  },
  {
   "cell_type": "code",
   "execution_count": 9,
   "id": "bd335053-064a-45d1-9d15-86015ccdccdf",
   "metadata": {},
   "outputs": [
    {
     "data": {
      "text/plain": [
       "np.int64(11)"
      ]
     },
     "execution_count": 9,
     "metadata": {},
     "output_type": "execute_result"
    }
   ],
   "source": [
    "np.random.choice([1, 0], p=[0.2, 0.8], size=50).sum()"
   ]
  },
  {
   "cell_type": "code",
   "execution_count": 10,
   "id": "8ff63f2f-a985-423f-889b-6355ee672208",
   "metadata": {},
   "outputs": [
    {
     "data": {
      "text/plain": [
       "np.int64(6)"
      ]
     },
     "execution_count": 10,
     "metadata": {},
     "output_type": "execute_result"
    }
   ],
   "source": [
    "np.random.choice([1, 0], p=[0.1, 0.9], size=50).sum()"
   ]
  },
  {
   "cell_type": "markdown",
   "id": "c79f0a97-7a9c-4835-aad8-b198e7e6fa70",
   "metadata": {},
   "source": [
    "## Шаг 2: Сортировка данных по uplift_prediction"
   ]
  },
  {
   "cell_type": "code",
   "execution_count": 4,
   "id": "d0629fd9-cf8d-48e7-abd8-d4f2785d82dd",
   "metadata": {},
   "outputs": [
    {
     "name": "stdout",
     "output_type": "stream",
     "text": [
      "   user_id  treatment  outcome  uplift_prediction\n",
      "0       55          0        0           0.985650\n",
      "1       40          1        0           0.971782\n",
      "2       41          1        1           0.962447\n",
      "3       35          1        0           0.942910\n",
      "4       79          0        0           0.936730\n"
     ]
    }
   ],
   "source": [
    "# сортировка данных по uplift_prediction\n",
    "df = (\n",
    "    df.sort_values(by='uplift_prediction', ascending=False)\n",
    "    .reset_index(drop=True)\n",
    ")\n",
    "print(df.head())"
   ]
  },
  {
   "cell_type": "markdown",
   "id": "75204c3f-8ea1-4ac2-9285-44b3c373cd97",
   "metadata": {},
   "source": [
    "## Шаг 3: Инициализация переменных для расчёта CGain и Random"
   ]
  },
  {
   "cell_type": "code",
   "execution_count": 5,
   "id": "c0c57144-cb69-4b8b-b1b6-0343f25d7c75",
   "metadata": {},
   "outputs": [],
   "source": [
    "# инициализация переменных\n",
    "nt = 0   # число точек, на которых было воздействие до заданной точки\n",
    "nt_1 = 0 # число точек, на которых были воздействия и реакция пользователя\n",
    "nc = 0   # число точек, на которых не было воздействие до заданной точки (c — control). \n",
    "nc_1 = 0 # число точек, на которых не было воздействия и реакции пользователя.\n",
    "cgain = [] # точка Qini-кривой, рассчитанная на заданном объекте выборк\n",
    "random = [] # результат применения случайной модели\n",
    "optimum = [] # максимальное значение uplift, которое мы можем получить на выборке.\n",
    "incremental_purchases = 0 # добавленные покупки\n",
    "opt_incremental_purchases = df['outcome'].sum() # максимально добавленные покупки"
   ]
  },
  {
   "cell_type": "code",
   "execution_count": 7,
   "id": "9f78d506-7e70-4e05-9795-1d6b7e40cc28",
   "metadata": {},
   "outputs": [
    {
     "data": {
      "text/plain": [
       "np.int64(22)"
      ]
     },
     "execution_count": 7,
     "metadata": {},
     "output_type": "execute_result"
    }
   ],
   "source": [
    "opt_incremental_purchases"
   ]
  },
  {
   "cell_type": "markdown",
   "id": "cbd38c16-6156-44ff-a9f3-f70bd1b48522",
   "metadata": {},
   "source": [
    "## Шаг 4: Расчёт CGain, Random и Optimum"
   ]
  },
  {
   "cell_type": "code",
   "execution_count": 6,
   "id": "2a2ffb0c-c12c-49dc-b75c-26c7652b4eec",
   "metadata": {},
   "outputs": [],
   "source": [
    "# расчёт CGain, Random и Optimum\n",
    "for i, row in df.iterrows():\n",
    "    if row['treatment'] == 1:\n",
    "        nt += 1\n",
    "        if row['outcome'] == 1:\n",
    "            nt_1 += 1\n",
    "            incremental_purchases += 1\n",
    "    else:\n",
    "        nc += 1\n",
    "        if row['outcome'] == 1:\n",
    "            nc_1 += 1\n",
    "\n",
    "    cgain.append(incremental_purchases)\n",
    "    random.append(opt_incremental_purchases * (i + 1) / len(df))\n",
    "    optimum.append(min(opt_incremental_purchases, (i + 1) * 1.0))"
   ]
  },
  {
   "cell_type": "markdown",
   "id": "f0aef24a-fa24-4c13-90ae-36e634ed2a76",
   "metadata": {},
   "source": [
    "## Шаг 5: Расчёт метрик"
   ]
  },
  {
   "cell_type": "code",
   "execution_count": 11,
   "id": "6736e1c8-5e6b-4d5f-8442-02e40c0b98de",
   "metadata": {},
   "outputs": [
    {
     "name": "stdout",
     "output_type": "stream",
     "text": [
      "Qini Score: -264.3900000000001\n"
     ]
    }
   ],
   "source": [
    "from sklearn.metrics import auc\n",
    "\n",
    "# расчёт площади под кривыми\n",
    "qini_auc = auc(range(1, len(cgain) + 1), cgain)\n",
    "random_auc = auc(range(1, len(random) + 1), random)\n",
    "\n",
    "# расчёт Qini Score\n",
    "qini_score = qini_auc - random_auc\n",
    "\n",
    "# вывод Qini Score\n",
    "print(f'Qini Score: {qini_score}') "
   ]
  },
  {
   "cell_type": "markdown",
   "id": "3cc3a4aa-9967-44bb-998e-e1c423c4d193",
   "metadata": {},
   "source": [
    "## Шаг 6: Построение графика"
   ]
  },
  {
   "cell_type": "code",
   "execution_count": 12,
   "id": "28500077-a375-46bf-b8a0-83032163fc7b",
   "metadata": {},
   "outputs": [
    {
     "data": {
      "image/png": "[encoded data removed]",
      "text/plain": [
       "<Figure size 1000x600 with 1 Axes>"
      ]
     },
     "metadata": {},
     "output_type": "display_data"
    }
   ],
   "source": [
    "import matplotlib.pyplot as plt\n",
    "\n",
    "# построение графиков\n",
    "plt.figure(figsize=(10, 6))\n",
    "plt.plot(range(1, len(cgain) + 1), cgain, label='Model', color='blue')\n",
    "plt.plot(range(1, len(random) + 1), random, label='Random', color='red', linestyle='--')\n",
    "plt.plot(range(1, len(optimum) + 1), optimum, label='Optimum', color='green', linestyle='--')\n",
    "plt.xlabel('Number of users targeted')\n",
    "plt.ylabel('Number of Incremental Purchases')\n",
    "plt.title('Gains Chart for Uplift (Qini Curve) with Random')\n",
    "plt.legend()\n",
    "plt.grid(True)\n",
    "plt.show()"
   ]
  },
  {
   "cell_type": "markdown",
   "id": "84702e07-28c3-462c-9439-e61054fe1eab",
   "metadata": {},
   "source": [
    "## Задание\n",
    "\n",
    "Ниже приведён код для отрисовки Qini-кривой. Дополните его и посчитайте Qini Score (площадь под кривой). \n",
    "\n",
    "Данные можете взять отсюда: `https://storage.yandexcloud.net/mle-data/sprint-5/discountuplift.csv`.\n",
    "\n",
    "В данном датасете нас интересуют 2 колонки: `uplift_score` и `target_class`.\n",
    "\n",
    "Расшифровка `target_class`:\n",
    "\n",
    "- `0` — контрольная выборка, не купили товар ($y_c=0$, в наших терминах)\n",
    "- `1` — контрольная выборка, купили товар ($y_c=1$, в наших терминах)\n",
    "- `2` — выборка с воздействием (скидка), не купили товар ($y_t=0$, в наших терминах);\n",
    "- `3` — выборка с воздействием (скидка), купили товар ($y_t=1$, в наших терминах).\n"
   ]
  },
  {
   "cell_type": "code",
   "execution_count": 13,
   "id": "5f035c3c-49f0-4523-bf0f-e8ceb2c87ecf",
   "metadata": {},
   "outputs": [],
   "source": [
    "# !mkdir datasets\n",
    "# !wget https://storage.yandexcloud.net/mle-data/sprint-5/discountuplift.csv\n",
    "# !mv discountuplift.csv datasets"
   ]
  },
  {
   "cell_type": "code",
   "execution_count": 20,
   "id": "012997b2-f5b8-482c-8052-33cee0891d5f",
   "metadata": {},
   "outputs": [
    {
     "data": {
      "text/html": [
       "<div>\n",
       "<style scoped>\n",
       "    .dataframe tbody tr th:only-of-type {\n",
       "        vertical-align: middle;\n",
       "    }\n",
       "\n",
       "    .dataframe tbody tr th {\n",
       "        vertical-align: top;\n",
       "    }\n",
       "\n",
       "    .dataframe thead th {\n",
       "        text-align: right;\n",
       "    }\n",
       "</style>\n",
       "<table border=\"1\" class=\"dataframe\">\n",
       "  <thead>\n",
       "    <tr style=\"text-align: right;\">\n",
       "      <th></th>\n",
       "      <th>recency</th>\n",
       "      <th>history</th>\n",
       "      <th>used_discount</th>\n",
       "      <th>used_bogo</th>\n",
       "      <th>is_referral</th>\n",
       "      <th>treatment</th>\n",
       "      <th>zip_code_Rural</th>\n",
       "      <th>zip_code_Surburban</th>\n",
       "      <th>zip_code_Urban</th>\n",
       "      <th>channel_Multichannel</th>\n",
       "      <th>channel_Phone</th>\n",
       "      <th>channel_Web</th>\n",
       "      <th>proba_CN</th>\n",
       "      <th>proba_CR</th>\n",
       "      <th>proba_TN</th>\n",
       "      <th>proba_TR</th>\n",
       "      <th>uplift_score</th>\n",
       "      <th>target_class</th>\n",
       "    </tr>\n",
       "  </thead>\n",
       "  <tbody>\n",
       "    <tr>\n",
       "      <th>9948</th>\n",
       "      <td>1</td>\n",
       "      <td>186.66</td>\n",
       "      <td>0</td>\n",
       "      <td>1</td>\n",
       "      <td>1</td>\n",
       "      <td>1</td>\n",
       "      <td>1</td>\n",
       "      <td>0</td>\n",
       "      <td>0</td>\n",
       "      <td>0</td>\n",
       "      <td>0</td>\n",
       "      <td>1</td>\n",
       "      <td>0.417925</td>\n",
       "      <td>0.166987</td>\n",
       "      <td>0.279740</td>\n",
       "      <td>0.135348</td>\n",
       "      <td>0.081161</td>\n",
       "      <td>2</td>\n",
       "    </tr>\n",
       "    <tr>\n",
       "      <th>2002</th>\n",
       "      <td>8</td>\n",
       "      <td>508.14</td>\n",
       "      <td>1</td>\n",
       "      <td>1</td>\n",
       "      <td>1</td>\n",
       "      <td>1</td>\n",
       "      <td>0</td>\n",
       "      <td>1</td>\n",
       "      <td>0</td>\n",
       "      <td>0</td>\n",
       "      <td>1</td>\n",
       "      <td>0</td>\n",
       "      <td>0.528632</td>\n",
       "      <td>0.061418</td>\n",
       "      <td>0.308849</td>\n",
       "      <td>0.101101</td>\n",
       "      <td>0.285057</td>\n",
       "      <td>2</td>\n",
       "    </tr>\n",
       "    <tr>\n",
       "      <th>3045</th>\n",
       "      <td>9</td>\n",
       "      <td>286.62</td>\n",
       "      <td>0</td>\n",
       "      <td>1</td>\n",
       "      <td>1</td>\n",
       "      <td>1</td>\n",
       "      <td>0</td>\n",
       "      <td>0</td>\n",
       "      <td>1</td>\n",
       "      <td>0</td>\n",
       "      <td>0</td>\n",
       "      <td>1</td>\n",
       "      <td>0.567822</td>\n",
       "      <td>0.022656</td>\n",
       "      <td>0.348541</td>\n",
       "      <td>0.060981</td>\n",
       "      <td>0.221080</td>\n",
       "      <td>2</td>\n",
       "    </tr>\n",
       "  </tbody>\n",
       "</table>\n",
       "</div>"
      ],
      "text/plain": [
       "      recency  history  used_discount  used_bogo  is_referral  treatment  \\\n",
       "9948        1   186.66              0          1            1          1   \n",
       "2002        8   508.14              1          1            1          1   \n",
       "3045        9   286.62              0          1            1          1   \n",
       "\n",
       "      zip_code_Rural  zip_code_Surburban  zip_code_Urban  \\\n",
       "9948               1                   0               0   \n",
       "2002               0                   1               0   \n",
       "3045               0                   0               1   \n",
       "\n",
       "      channel_Multichannel  channel_Phone  channel_Web  proba_CN  proba_CR  \\\n",
       "9948                     0              0            1  0.417925  0.166987   \n",
       "2002                     0              1            0  0.528632  0.061418   \n",
       "3045                     0              0            1  0.567822  0.022656   \n",
       "\n",
       "      proba_TN  proba_TR  uplift_score  target_class  \n",
       "9948  0.279740  0.135348      0.081161             2  \n",
       "2002  0.308849  0.101101      0.285057             2  \n",
       "3045  0.348541  0.060981      0.221080             2  "
      ]
     },
     "execution_count": 20,
     "metadata": {},
     "output_type": "execute_result"
    }
   ],
   "source": [
    "# загружаем необходимые библиотеки\n",
    "import numpy as np\n",
    "import pandas as pd\n",
    "from matplotlib import pyplot as plt\n",
    "import warnings\n",
    "warnings.filterwarnings('ignore')\n",
    "\n",
    "%matplotlib inline\n",
    "# загружаем DataFrame\n",
    "discount = pd.read_csv(\"datasets/discountuplift.csv\", sep=\"\\t\")\n",
    "discount.sample(3, random_state=42)"
   ]
  },
  {
   "cell_type": "code",
   "execution_count": 70,
   "id": "6208be39-a1e3-44ea-8fa4-c20dc9f81189",
   "metadata": {},
   "outputs": [
    {
     "data": {
      "image/png": "[encoded data removed]",
      "text/plain": [
       "<Figure size 640x480 with 1 Axes>"
      ]
     },
     "metadata": {},
     "output_type": "display_data"
    },
    {
     "data": {
      "text/plain": [
       "np.float64(33.22356)"
      ]
     },
     "execution_count": 70,
     "metadata": {},
     "output_type": "execute_result"
    }
   ],
   "source": [
    "# реализуем подсчёт Qini Score:\n",
    "def qini_df(df):\n",
    "    # 1. Отранжируем выборку по значению uplift в порядке убывания\n",
    "    ranked = df.sort_values(by='uplift_score', ascending=False).reset_index(drop=True) # Ваш код здесь\n",
    "    \n",
    "    N_c = sum(ranked['target_class'] <= 1)\n",
    "    N_t = sum(ranked['target_class'] >= 2)\n",
    "    \n",
    "    # посчитаем в отсортированном датафрейме основные показатели, \n",
    "    # которые используются при расчёте Qini Score\n",
    "    ranked['n_c1'] = 0\n",
    "    ranked['n_t1'] = 0\n",
    "    ranked.loc[ranked.target_class == 1,'n_c1'] = 1\n",
    "    ranked.loc[ranked.target_class == 3,'n_t1'] = 1\n",
    "    ranked['n_c1/nc'] = ranked.n_c1.cumsum() / N_c\n",
    "    ranked['n_t1/nt'] = ranked.n_t1.cumsum() / N_t\n",
    "    \n",
    "    # посчитаем Qini-кривую и случайную прямую под ней\n",
    "    ranked['uplift'] = ranked['n_t1/nt'] - ranked['n_c1/nc'] # Ваш код здесь\n",
    "    # добавим случайную кривую\n",
    "    end_point = ranked['uplift'].tail(1).values[0]\n",
    "    ranked['random_uplift'] = np.linspace(0, end_point, ranked.shape[0]) # Ваш код здесь\n",
    "    ranked[\"n\"] = np.arange(ranked.shape[0]) # Ваш код здесь\n",
    "    # немного кода для визуализации\n",
    "    plt.plot(ranked['n'], ranked['uplift'], color='r')\n",
    "    plt.plot(ranked['n'], ranked['random_uplift'], color='b')\n",
    "    plt.show()\n",
    "    \n",
    "    return (ranked['uplift'] - ranked['random_uplift']).sum()\n",
    "\n",
    "qini_df(discount).round(5)"
   ]
  },
  {
   "cell_type": "markdown",
   "id": "2104bd97-3650-42f0-8e3c-91b4fc7373cb",
   "metadata": {},
   "source": [
    "Это значит, что ваша модель лучше модели случайного воздействия (Qini Score положительный) — Baseline для других моделей создан. \n",
    "\n",
    "Итак, вы разобрались, как оценивать офлайн-качество uplift-моделей по их предсказанию. Дальше мы расскажем о том, как собрать выборку для правильной оценки качества, а также о том, как проводить A/B-тесты онлайн в случае uplift-моделирования."
   ]
  },
  {
   "cell_type": "markdown",
   "id": "ccd70cfb-ac25-4e7f-bdcf-46582d180798",
   "metadata": {},
   "source": [
    "# A/B-тесты и оценка качества онлайн\n",
    "(Пример проведения A/B-теста для uplift-моделирования)"
   ]
  },
  {
   "cell_type": "markdown",
   "id": "64a4ae95-760d-416c-be84-d62d3fd53c1c",
   "metadata": {},
   "source": [
    "## Шаг 1: Определение цели и параметров теста\n",
    "Предположим, что цель теста — увеличить количество поездок в сервисе такси после выдачи скидок.\n",
    "\n",
    "- Цель: увеличение количества поездок.\n",
    "- Метрики: количество поездок, средний чек, общий доход.\n",
    "- Период: две недели."
   ]
  },
  {
   "cell_type": "markdown",
   "id": "e8cf5aac-ac1d-48a8-be79-109492a76a8f",
   "metadata": {},
   "source": [
    "## Шаг 2: Разделение аудитории\n",
    "Аудитория делится на две группы случайным образом.\n",
    "\n",
    "- Контрольная группа: не получает скидки.\n",
    "- Экспериментальная группа: получает скидки."
   ]
  },
  {
   "cell_type": "code",
   "execution_count": 3,
   "id": "5e525e5b-fb63-41e5-9ac2-be4a0d375632",
   "metadata": {},
   "outputs": [],
   "source": [
    "import pandas as pd\n",
    "import numpy as np\n",
    "\n",
    "# загрузим данные пользователей\n",
    "data = pd.read_csv(FILENAME)\n",
    "\n",
    "# добавим колонку с группой (контрольная или экспериментальная)\n",
    "np.random.seed(42)  # для воспроизводимости результатов\n",
    "data['group'] = np.random.choice(['control', 'experiment'], size=len(data))\n",
    "\n",
    "# сохраним контрольную и экспериментальную группы в отдельные переменные\n",
    "control_group = data[data['group'] == 'control']\n",
    "experiment_group = data[data['group'] == 'experiment']"
   ]
  },
  {
   "cell_type": "markdown",
   "id": "44718d84-7585-468e-919b-3554f916e236",
   "metadata": {},
   "source": [
    "## Шаг 3: Предоставление версий элемента\n",
    "- Контрольная группа: видит стандартные цены без скидок.\n",
    "- Экспериментальная группа: видит скидки на поездки."
   ]
  },
  {
   "cell_type": "code",
   "execution_count": 5,
   "id": "eaff12e3-d2ed-4f40-8aed-d2d4ff9e0395",
   "metadata": {},
   "outputs": [],
   "source": [
    "# добавим колонку с информацией о скидках\n",
    "data['discount'] = np.where(data['group'] == 'experiment', True, False)\n",
    "\n",
    "# проверим результат\n",
    "print(data.head())"
   ]
  },
  {
   "cell_type": "markdown",
   "id": "8dc3f914-ab94-45c8-9e48-35cbb8e4d6ae",
   "metadata": {},
   "source": [
    "## Шаг 4: Сбор данных\n",
    "\n",
    "Собираются данные о количестве поездок, их стоимости, а также другие релевантные метрики в обеих группах."
   ]
  },
  {
   "cell_type": "code",
   "execution_count": null,
   "id": "bd40436a-7e47-400d-bddc-176280861537",
   "metadata": {},
   "outputs": [],
   "source": [
    "# создадим DataFrame для хранения результатов теста\n",
    "results = pd.DataFrame(columns=['user_id', 'group', 'num_rides', 'total_spent'])\n",
    "\n",
    "# симуляция данных для каждой группы\n",
    "# для простоты примера мы используем случайные данные\n",
    "for _, row in data.iterrows():\n",
    "    num_rides = np.random.poisson(lam=5 if row['discount'] else 3)  # предполагаем, что скидки увеличивают среднее количество поездок\n",
    "    total_spent = num_rides * (20 if row['discount'] else 25)  # допустим, что средняя стоимость поездки отличается\n",
    "    \n",
    "    results = results.append({\n",
    "        'user_id': row['user_id'],\n",
    "        'group': row['group'],\n",
    "        'num_rides': num_rides,\n",
    "        'total_spent': total_spent\n",
    "    }, ignore_index=True)\n",
    "\n",
    "# сохраним результаты\n",
    "results.to_csv('ab_test_results.csv', index=False)"
   ]
  },
  {
   "cell_type": "markdown",
   "id": "fd11ccc5-dd4a-4ccb-839c-dc9d34fa573d",
   "metadata": {},
   "source": [
    "## Шаг 5: Анализ данных и интерпретация результатов\n",
    "\n",
    "После завершения теста анализируются собранные данные:\n",
    "- сравниваются результаты контрольной и экспериментальной групп;\n",
    "- оценивается, насколько значимо увеличилось количество поездок в экспериментальной группе;\n",
    "- применяются статистические тесты для определения значимости различий.\n"
   ]
  },
  {
   "cell_type": "code",
   "execution_count": null,
   "id": "353005a5-5221-4c07-817c-b4b8479328bf",
   "metadata": {},
   "outputs": [],
   "source": [
    "from scipy import stats\n",
    "\n",
    "# загрузим результаты теста\n",
    "results = pd.read_csv('ab_test_results.csv')\n",
    "\n",
    "# группируем данные\n",
    "grouped_results = results.groupby('group').agg({\n",
    "  'num_rides': ['mean', 'std', 'count'],\n",
    "  'total_spent': ['mean', 'std', 'count']\n",
    "})\n",
    "\n",
    "print(grouped_results)\n",
    "\n",
    "# сравниваем средние значения количества поездок\n",
    "control_rides = results[results['group'] == 'control']['num_rides']\n",
    "experiment_rides = results[results['group'] == 'experiment']['num_rides']\n",
    "\n",
    "t_stat, p_value = stats.ttest_ind(control_rides, experiment_rides)\n",
    "print(f\"t-statistic: {t_stat}, p-value: {p_value}\")\n",
    "\n",
    "# оцениваем, насколько значимо увеличилось количество поездок в экспериментальной группе\n",
    "if p_value < 0.05:\n",
    "  print(\"Различие в количестве поездок между контрольной и экспериментальной группами статистически значимо.\")\n",
    "else:\n",
    "  print(\"Различие в количестве поездок между контрольной и экспериментальной группами не является статистически значимым.\")"
   ]
  },
  {
   "cell_type": "markdown",
   "id": "3fb7c1dc-5fef-4d8d-9270-3e5ddf99f489",
   "metadata": {},
   "source": [
    "Этот пример показывает ключевые этапы проведения A/B-теста для uplift-моделирования.\n",
    "Сам же процесс помогает оценить эффективность маркетинговых воздействий и использовать полученные данные для обучения uplift-моделей."
   ]
  },
  {
   "cell_type": "markdown",
   "id": "397a0054-9c16-4a67-bc4f-3a14db6de3d7",
   "metadata": {},
   "source": [
    "# S-learner"
   ]
  },
  {
   "cell_type": "markdown",
   "id": "1cfd2b39-9f90-42f4-8c5f-d0a899510b4f",
   "metadata": {},
   "source": [
    "Ваша задача — научиться выдавать скидки так, чтобы повысить вероятность покупки товара. "
   ]
  },
  {
   "cell_type": "code",
   "execution_count": 10,
   "id": "233aacbd-00bb-4b2a-98e5-abb69572b983",
   "metadata": {},
   "outputs": [
    {
     "data": {
      "image/png": "[encoded data removed]",
      "text/plain": [
       "<Figure size 640x480 with 1 Axes>"
      ]
     },
     "metadata": {},
     "output_type": "display_data"
    },
    {
     "data": {
      "text/plain": [
       "np.float64(33.18176)"
      ]
     },
     "execution_count": 10,
     "metadata": {},
     "output_type": "execute_result"
    }
   ],
   "source": [
    "# загружаем необходимые библиотеки\n",
    "import numpy as np\n",
    "import pandas as pd\n",
    "from matplotlib import pyplot as plt\n",
    "import warnings\n",
    "warnings.filterwarnings('ignore')\n",
    "\n",
    "np.random.seed(1)\n",
    "\n",
    "%matplotlib inline\n",
    "# загружаем датафрейм\n",
    "df = pd.read_csv(\"datasets/discountuplift.csv\", sep=\"\\t\")\n",
    "\n",
    "# реализуем подсчёт Qini Score:\n",
    "def qini_df(df):\n",
    "    # отранжируем выборку по значению uplift в порядке убывания \n",
    "    ranked = df.sort_values(\"uplift_score\", ascending=False)\n",
    "    \n",
    "    N_c = sum(ranked['target_class'] <= 1)\n",
    "    N_t = sum(ranked['target_class'] >= 2)\n",
    "    \n",
    "    # посчитаем в отсортированном датафрейме основные показатели, \n",
    "    # которые используются при расчёте Qini Score\n",
    "    ranked['n_c1'] = 0\n",
    "    ranked['n_t1'] = 0\n",
    "    ranked.loc[ranked.target_class == 1,'n_c1'] = 1\n",
    "    ranked.loc[ranked.target_class == 3,'n_t1'] = 1\n",
    "    ranked['n_c1/nc'] = ranked.n_c1.cumsum() / N_c\n",
    "    ranked['n_t1/nt'] = ranked.n_t1.cumsum() / N_t\n",
    "    \n",
    "    # посчитаем Qini-кривую и случайную прямую под ней\n",
    "    ranked['uplift'] = round(ranked['n_t1/nt'] - ranked['n_c1/nc'],5)\n",
    "    # добавим случайную кривую\n",
    "    ranked['random_uplift'] = round(ranked[\"uplift_score\"].rank(pct=True, ascending=False) * ranked['uplift'].iloc[-1],5)\n",
    "    \n",
    "    ranked[\"n\"] = ranked[\"uplift_score\"].rank(pct=True, ascending=False)\n",
    "    # немного кода для визуализации\n",
    "    plt.plot(ranked['n'], ranked['uplift'], color='r')\n",
    "    plt.plot(ranked['n'], ranked['random_uplift'], color='b')\n",
    "    plt.show()\n",
    "    \n",
    "    return (ranked['uplift'] - ranked['random_uplift']).sum()\n",
    "\n",
    "qini_df(df)"
   ]
  },
  {
   "cell_type": "markdown",
   "id": "4737f70c-7d35-4bdb-a1e3-09fad945a256",
   "metadata": {},
   "source": [
    "## Задание 1 из 4"
   ]
  },
  {
   "cell_type": "markdown",
   "id": "0f1b9a6e-084b-4b70-8e44-ed663bbc013b",
   "metadata": {},
   "source": [
    "Первое, что нужно сделать, — явно выделить колонки с целевой переменной, факторами и целевым воздействием. Напомним значения целевой переменной: \n",
    "- `0` — контрольная выборка, не купили товар ($y_c=0$);\n",
    "- `1` — контрольная выборка, купили товар ($y_c=1$);\n",
    "- `2` — выборка с воздействием (скидка), не купили товар ($y_t=0$);\n",
    "- `3` — выборка с воздействием (скидка), купили товар ($y_t=1$).\n",
    "\n",
    "Преобразуйте исходный датафрейм:\n",
    "- добавьте колонку `old_target` — колонка, которая принимает значение 1, если была покупка, и 0 в противном случае;\n",
    "- выделим колонки с факторами и колонку с фактом «целевого воздействия» — выдачи скидки."
   ]
  },
  {
   "cell_type": "code",
   "execution_count": 34,
   "id": "819b0c8b-3f16-4d58-bdc4-b5c259a436d3",
   "metadata": {},
   "outputs": [],
   "source": [
    "# загружаем необходимые библиотеки\n",
    "import numpy as np\n",
    "import pandas as pd\n",
    "from matplotlib import pyplot as plt\n",
    "import warnings\n",
    "warnings.filterwarnings('ignore')\n",
    "\n",
    "np.random.seed(1)\n",
    "\n",
    "%matplotlib inline\n",
    "# загружаем датафрейм\n",
    "df = pd.read_csv(\"datasets/discountuplift.csv\", sep=\"\\t\")"
   ]
  },
  {
   "cell_type": "code",
   "execution_count": 35,
   "id": "33431f20-762b-43f8-bdb2-83ed71b63aec",
   "metadata": {},
   "outputs": [],
   "source": [
    "# ваш код здесь (таргет — факт покупки)\n",
    "df['old_target'] = 0\n",
    "df.loc[df.target_class.isin([1, 3]),'old_target'] = 1"
   ]
  },
  {
   "cell_type": "code",
   "execution_count": 36,
   "id": "103a8fbf-cc1d-437a-974a-836f8bbae7e8",
   "metadata": {},
   "outputs": [],
   "source": [
    "feature_cols = [\n",
    "    'recency', 'history', 'used_discount', 'used_bogo', 'is_referral',\n",
    "    'zip_code_Rural', 'zip_code_Surburban', 'zip_code_Urban',\n",
    "    'channel_Multichannel', 'channel_Phone', 'channel_Web'\n",
    "]"
   ]
  },
  {
   "cell_type": "code",
   "execution_count": 37,
   "id": "228da15c-8617-42aa-a780-3c6e63832bfc",
   "metadata": {},
   "outputs": [],
   "source": [
    "target_col = 'old_target' # имя колонки с целевой переменной\n",
    "treatment_col = 'treatment'"
   ]
  },
  {
   "cell_type": "code",
   "execution_count": 38,
   "id": "5153cdbc-fcca-4e0e-903f-2faef053ed4f",
   "metadata": {},
   "outputs": [
    {
     "data": {
      "text/plain": [
       "1878"
      ]
     },
     "execution_count": 38,
     "metadata": {},
     "output_type": "execute_result"
    }
   ],
   "source": [
    "df[df[target_col] == 1].shape[0]"
   ]
  },
  {
   "cell_type": "markdown",
   "id": "8583e0d1-c0e5-4281-88b4-f29cfbf5a3a7",
   "metadata": {},
   "source": [
    "## Задание 2 из 4"
   ]
  },
  {
   "cell_type": "markdown",
   "id": "6df80b6c-2575-4eec-981d-0008135aeb6f",
   "metadata": {},
   "source": [
    "Теперь разбейте выборку на тренировочную и тестовую.\n",
    "Условия: `random_state=1`, размер тестовой выборки — 25%, разбиение стратифицированное по колонке с фактом целевого воздействия и с целевой переменной."
   ]
  },
  {
   "cell_type": "code",
   "execution_count": 39,
   "id": "e848a98e-9958-496a-af23-0b7e9b79ced9",
   "metadata": {},
   "outputs": [],
   "source": [
    "from sklearn.model_selection import train_test_split\n",
    "\n",
    "# разбейте выборку на тренировочную и тестовую\n",
    "df_train, df_test = train_test_split(\n",
    "    df, stratify=df.old_target, test_size=0.25, random_state=1\n",
    ")"
   ]
  },
  {
   "cell_type": "code",
   "execution_count": 40,
   "id": "00f7c366-8550-4994-bef8-7dfd9efa35b5",
   "metadata": {},
   "outputs": [
    {
     "data": {
      "text/plain": [
       "((9588, 19), (3196, 19))"
      ]
     },
     "execution_count": 40,
     "metadata": {},
     "output_type": "execute_result"
    }
   ],
   "source": [
    "df_train.shape, df_test.shape"
   ]
  },
  {
   "cell_type": "code",
   "execution_count": 41,
   "id": "95f849c3-8617-4e4f-b097-ed14b43d012c",
   "metadata": {},
   "outputs": [
    {
     "data": {
      "text/plain": [
       "old_target\n",
       "0    0.85305\n",
       "1    0.14695\n",
       "Name: proportion, dtype: float64"
      ]
     },
     "execution_count": 41,
     "metadata": {},
     "output_type": "execute_result"
    }
   ],
   "source": [
    "# Чему равна доля значений 1 в целевой переменной из тренировочного датасета? \n",
    "round(df_train.value_counts(target_col, normalize=True), 5)"
   ]
  },
  {
   "cell_type": "code",
   "execution_count": 42,
   "id": "b59d5c8b-945e-43d2-826a-dd1fd4524867",
   "metadata": {},
   "outputs": [
    {
     "data": {
      "text/plain": [
       "0.14695"
      ]
     },
     "execution_count": 42,
     "metadata": {},
     "output_type": "execute_result"
    }
   ],
   "source": [
    "0.14695"
   ]
  },
  {
   "cell_type": "markdown",
   "id": "5961adfd-3376-4a1b-9ec0-8f94b3c252a8",
   "metadata": {},
   "source": [
    "## Задание 3 из 4\n",
    "\n",
    "Теперь обучите S-learner (в данном случае это логистическая регрессия)."
   ]
  },
  {
   "cell_type": "code",
   "execution_count": 43,
   "id": "707e3d10-9153-4c17-8b11-97d9f86bd651",
   "metadata": {},
   "outputs": [
    {
     "data": {
      "text/plain": [
       "array([-1.40435315])"
      ]
     },
     "execution_count": 43,
     "metadata": {},
     "output_type": "execute_result"
    }
   ],
   "source": [
    "from sklearn.linear_model import LogisticRegression\n",
    "\n",
    "# создайте логистическую регрессию с random_state=1\n",
    "s_learner = LogisticRegression(random_state=1)\n",
    "s_learner.fit(\n",
    "    X=df_train[feature_cols + [treatment_col]],\n",
    "    y=df_train[target_col]\n",
    ")\n",
    "\n",
    "# посчитайте intercept\n",
    "s_learner.intercept_"
   ]
  },
  {
   "cell_type": "code",
   "execution_count": 44,
   "id": "385bc666-a5b7-48fd-9dee-7a5fb9b3ef73",
   "metadata": {},
   "outputs": [
    {
     "data": {
      "text/plain": [
       "np.float64(-1.40435)"
      ]
     },
     "execution_count": 44,
     "metadata": {},
     "output_type": "execute_result"
    }
   ],
   "source": [
    "# Чему равен intercept в обученной модели? Ответ округлите до пятого знака после запятой.\n",
    "round(s_learner.intercept_[0], 5)"
   ]
  },
  {
   "cell_type": "markdown",
   "id": "106fe67e-7f56-4e87-a310-1438b994f2f1",
   "metadata": {},
   "source": [
    "## Задание 4 из 4"
   ]
  },
  {
   "cell_type": "markdown",
   "id": "74c08507-36f7-4739-8410-bd6e8799f016",
   "metadata": {},
   "source": [
    "Измерьте качество модели при помощи Qini Score. В прекоде к этому заданию мы затронем все шаги — в будущем же вы сможете писать более короткий код инференса модели. "
   ]
  },
  {
   "cell_type": "code",
   "execution_count": 45,
   "id": "cd3907b7-f2a4-408e-af0a-fe503c5bd232",
   "metadata": {},
   "outputs": [],
   "source": [
    "# предскажем вероятность покупки, если скидка есть\n",
    "df_test[treatment_col] = 1\n",
    "df_test['yes_treatment'] = s_learner.predict_proba(df_test[feature_cols+[treatment_col]])[:,1]\n",
    "\n",
    "# предскажите вероятность покупки, если скидки нет \n",
    "df_test[treatment_col] = 0\n",
    "df_test['no_treatment'] = s_learner.predict_proba(df_test[feature_cols+[treatment_col]])[:,1] # ваш код здесь\n",
    "\n",
    "# посчитаем uplift на объектах тестовой выборки\n",
    "uplift_vals = df_test['yes_treatment'] - df_test['no_treatment']\n",
    "df_test['uplift_score'] = uplift_vals "
   ]
  },
  {
   "cell_type": "code",
   "execution_count": 49,
   "id": "ff6a7787-440e-4cf4-8095-4ee8e196da82",
   "metadata": {},
   "outputs": [
    {
     "data": {
      "image/png": "[encoded data removed]",
      "text/plain": [
       "<Figure size 640x480 with 1 Axes>"
      ]
     },
     "metadata": {},
     "output_type": "display_data"
    },
    {
     "data": {
      "text/plain": [
       "np.float64(15.692)"
      ]
     },
     "execution_count": 49,
     "metadata": {},
     "output_type": "execute_result"
    }
   ],
   "source": [
    "# посчитаем Qini Score по нашему датасету \n",
    "ranked = df_test.sort_values(\"uplift_score\", ascending=False)\n",
    "\n",
    "N_c = sum(ranked['target_class'] <= 1)\n",
    "N_t = sum(ranked['target_class'] >= 2)\n",
    "\n",
    "# посчитаем в отсортированном датафрейме основные показатели, \n",
    "# которые используются при расчёте Qini Score\n",
    "ranked['n_c1'] = 0\n",
    "ranked['n_t1'] = 0\n",
    "ranked.loc[ranked.target_class == 1,'n_c1'] = 1\n",
    "ranked.loc[ranked.target_class == 3,'n_t1'] = 1\n",
    "ranked['n_c1/nc'] = ranked.n_c1.cumsum() / N_c\n",
    "ranked['n_t1/nt'] = ranked.n_t1.cumsum() / N_t\n",
    "\n",
    "# посчитаем Qini-кривую и случайную прямую под ней\n",
    "ranked['uplift'] = ranked['n_t1/nt'] - ranked['n_c1/nc']\n",
    "# добавим случайную кривую\n",
    "ranked['random_uplift'] = ranked[\"uplift_score\"].rank(pct=True, ascending=False) * ranked['uplift'].iloc[-1]\n",
    "\n",
    "ranked[\"n\"] = ranked[\"uplift_score\"].rank(pct=True, ascending=False)\n",
    "# немного кода для визуализации\n",
    "plt.plot(ranked['n'], ranked['uplift'], color='r')\n",
    "plt.plot(ranked['n'], ranked['random_uplift'], color='b')\n",
    "plt.show()\n",
    "\n",
    "round((ranked['uplift'] - ranked['random_uplift']).sum(), 5)"
   ]
  },
  {
   "cell_type": "markdown",
   "id": "1b87da9c-8302-4603-8182-1970e8295ace",
   "metadata": {},
   "source": [
    "# T-learner"
   ]
  },
  {
   "cell_type": "markdown",
   "id": "a497620d-5ba2-4ecb-958b-aa22b1f6fbf7",
   "metadata": {},
   "source": [
    "## Задание 1 из 2\n",
    "Обучите две логистические регрессии для нашего T-learner. "
   ]
  },
  {
   "cell_type": "code",
   "execution_count": 78,
   "id": "198b0f18-df0a-405f-8a6f-f3580444fb1e",
   "metadata": {},
   "outputs": [],
   "source": [
    "# загружаем необходимые библиотеки\n",
    "import numpy as np\n",
    "import pandas as pd\n",
    "from matplotlib import pyplot as plt\n",
    "import warnings\n",
    "warnings.filterwarnings('ignore')\n",
    "\n",
    "%matplotlib inline\n",
    "# загружаем датафрейм\n",
    "df = pd.read_csv(\"datasets/discountuplift.csv\", sep=\"\\t\")"
   ]
  },
  {
   "cell_type": "code",
   "execution_count": 79,
   "id": "551604c8-91c3-43dd-99e9-638e34c14863",
   "metadata": {},
   "outputs": [],
   "source": [
    "df['old_target'] = (df['target_class'] % 2).apply(int)\n",
    "\n",
    "feature_cols = ['recency', 'history', 'used_discount', 'used_bogo', 'is_referral',\n",
    "                'zip_code_Rural', 'zip_code_Surburban', 'zip_code_Urban',\n",
    "                'channel_Multichannel', 'channel_Phone', 'channel_Web']\n",
    "target_col = 'old_target'\n",
    "treatment_col = 'treatment'"
   ]
  },
  {
   "cell_type": "code",
   "execution_count": 80,
   "id": "6a96b951-41bb-4ad0-b351-6937fbcddf60",
   "metadata": {},
   "outputs": [],
   "source": [
    "from sklearn.model_selection import train_test_split\n",
    "\n",
    "df_train, df_test = train_test_split(\n",
    "    df, stratify=df[[treatment_col, target_col]], random_state=1, test_size=0.25\n",
    ")"
   ]
  },
  {
   "cell_type": "code",
   "execution_count": 81,
   "id": "0573cba0-c668-45cb-8c24-e9553aec31ab",
   "metadata": {},
   "outputs": [],
   "source": [
    "from sklearn.linear_model import LogisticRegression"
   ]
  },
  {
   "cell_type": "code",
   "execution_count": 82,
   "id": "17b0cf94-2f29-4360-b8dc-d5a0f3685597",
   "metadata": {},
   "outputs": [],
   "source": [
    "# создайте логистическую регрессию с random_state=1\n",
    "t_learner_1 = LogisticRegression(verbose=0, random_state=1)\n",
    "\n",
    "# создайте логистическую регрессию с random_state=1\n",
    "t_learner_0 = LogisticRegression(verbose=0, random_state=1)"
   ]
  },
  {
   "cell_type": "code",
   "execution_count": null,
   "id": "0e69db93-bb1e-4c9d-97e3-e20b1a1040e7",
   "metadata": {},
   "outputs": [],
   "source": [
    "# обучите модели"
   ]
  },
  {
   "cell_type": "code",
   "execution_count": 93,
   "id": "3995b5d8-fb19-48e5-8d37-4d36c81b6c1a",
   "metadata": {},
   "outputs": [
    {
     "data": {
      "text/plain": [
       "array([-0.67476])"
      ]
     },
     "execution_count": 93,
     "metadata": {},
     "output_type": "execute_result"
    }
   ],
   "source": [
    "# t_learner_1 — модель, обученная на выборке с воздействием\n",
    "t_learner_1.fit(\n",
    "    X=df_train[df_train.target_class.isin([2,3])][feature_cols + [treatment_col]],\n",
    "    y=df_train[df_train.target_class.isin([2,3])][target_col]\n",
    ")\n",
    "\n",
    "# посчитайте intercept\n",
    "t_learner_1.intercept_.round(5)"
   ]
  },
  {
   "cell_type": "code",
   "execution_count": 92,
   "id": "46ae5b8d-64d8-47ea-b177-4c19c906ecf9",
   "metadata": {},
   "outputs": [
    {
     "data": {
      "text/plain": [
       "array([-1.24992])"
      ]
     },
     "execution_count": 92,
     "metadata": {},
     "output_type": "execute_result"
    }
   ],
   "source": [
    "# t_learner_0 — модель, обученная на выборке без воздействия\n",
    "t_learner_0.fit(\n",
    "    X=df_train[df_train.target_class.isin([0,1])][feature_cols + [treatment_col]],\n",
    "    y=df_train[df_train.target_class.isin([0,1])][target_col]\n",
    ")\n",
    "\n",
    "# посчитайте intercept\n",
    "t_learner_0.intercept_.round(5)"
   ]
  },
  {
   "cell_type": "markdown",
   "id": "a8026bb6-09c1-4155-a9af-4035499b9540",
   "metadata": {},
   "source": [
    "## Задание 2 из 2\n",
    "А теперь измерьте качество того, что получилось. "
   ]
  },
  {
   "cell_type": "code",
   "execution_count": 101,
   "id": "4940a1c2-d9d5-4f2b-a7ba-b30a00088a89",
   "metadata": {},
   "outputs": [],
   "source": [
    "# ваш код применения t_learner_1\n",
    "df_test['yes_treatment'] = t_learner_1.predict_proba(\n",
    "    df_test[feature_cols+[treatment_col]]\n",
    ")[:,1]\n",
    "\n",
    "# ваш код применения t_learner_0\n",
    "df_test['no_treatment'] = t_learner_0.predict_proba(\n",
    "    df_test[feature_cols+[treatment_col]]\n",
    ")[:,1]"
   ]
  },
  {
   "cell_type": "code",
   "execution_count": 102,
   "id": "1cc08d38-eb7d-42a8-a440-8b406b4c3208",
   "metadata": {},
   "outputs": [],
   "source": [
    "# реализуем подсчёт Qini Score:\n",
    "def qini_df(df):\n",
    "    # отранжируем выборку по значению uplift в порядке убывания\n",
    "    ranked = df.sort_values(\"uplift_score\", ascending=False)\n",
    "    \n",
    "    N_c = sum(ranked['target_class'] <= 1)\n",
    "    N_t = sum(ranked['target_class'] >= 2)\n",
    "    \n",
    "    # посчитаем в отсортированном датафрейме основные показатели, \n",
    "    # которые используются при расчёте Qini Score\n",
    "    ranked['n_c1'] = 0\n",
    "    ranked['n_t1'] = 0\n",
    "    ranked.loc[ranked.target_class == 1,'n_c1'] = 1\n",
    "    ranked.loc[ranked.target_class == 3,'n_t1'] = 1\n",
    "    ranked['n_c1/nc'] = ranked.n_c1.cumsum() / N_c\n",
    "    ranked['n_t1/nt'] = ranked.n_t1.cumsum() / N_t\n",
    "    \n",
    "    # посчитаем Qini-кривую и случайную прямую под ней\n",
    "    ranked['uplift'] = round(ranked['n_t1/nt'] - ranked['n_c1/nc'],5)\n",
    "    # добавим случайную кривую\n",
    "    ranked['random_uplift'] = round(ranked[\"uplift_score\"].rank(pct=True, ascending=False) * ranked['uplift'].iloc[-1],5)\n",
    "    \n",
    "    ranked[\"n\"] = ranked[\"uplift_score\"].rank(pct=True, ascending=False)\n",
    "    # немного кода для визуализации\n",
    "    plt.plot(ranked['n'], ranked['uplift'], color='r')\n",
    "    plt.plot(ranked['n'], ranked['random_uplift'], color='b')\n",
    "    plt.show()\n",
    "    \n",
    "    return (ranked['uplift'] - ranked['random_uplift']).sum()"
   ]
  },
  {
   "cell_type": "code",
   "execution_count": 104,
   "id": "a4f4a125-6513-435b-bae2-9374e59483fb",
   "metadata": {},
   "outputs": [
    {
     "data": {
      "image/png": "[encoded data removed]",
      "text/plain": [
       "<Figure size 640x480 with 1 Axes>"
      ]
     },
     "metadata": {},
     "output_type": "display_data"
    },
    {
     "data": {
      "text/plain": [
       "np.float64(-230.6112)"
      ]
     },
     "execution_count": 104,
     "metadata": {},
     "output_type": "execute_result"
    }
   ],
   "source": [
    "uplift_vals = df_test['yes_treatment'] - df_test['no_treatment']\n",
    "df_test['uplift_score'] = uplift_vals\n",
    "qini_df(df_test).round(4)"
   ]
  },
  {
   "cell_type": "markdown",
   "id": "022c7339-69ea-4507-a81c-7cae3c5b6c9f",
   "metadata": {},
   "source": [
    "# Реализация подходов с помощью библиотеки Causal ML"
   ]
  },
  {
   "cell_type": "code",
   "execution_count": 3,
   "id": "30b29dd9-c88e-4359-8df7-4c9b2f6549e3",
   "metadata": {},
   "outputs": [],
   "source": [
    "# !pip install -q causalml"
   ]
  },
  {
   "cell_type": "markdown",
   "id": "9873acc5-286f-4d50-af5e-2051dfacfb0f",
   "metadata": {},
   "source": [
    "Сейчас вас интересуют BaseSClassifier, BaseTClassifier — это метаалгоритмы, реализующие логику, которую до этого вы писали руками. Вам нужно переписать применение алгоритмов, над которыми вы так кропотливо работали ранее."
   ]
  },
  {
   "cell_type": "code",
   "execution_count": 1,
   "id": "7dabd4bc-f1c4-4e94-83a2-2f9ea0e5df91",
   "metadata": {},
   "outputs": [],
   "source": [
    "# загружаем необходимые библиотеки\n",
    "import numpy as np\n",
    "import pandas as pd\n",
    "from matplotlib import pyplot as plt\n",
    "import warnings\n",
    "warnings.filterwarnings('ignore')\n",
    "\n",
    "%matplotlib inline\n",
    "# загружаем датафрейм\n",
    "df = pd.read_csv(\"datasets/discountuplift.csv\", sep=\"\\t\")"
   ]
  },
  {
   "cell_type": "code",
   "execution_count": 2,
   "id": "7b922824-4982-4835-a350-c55fd1cab4c8",
   "metadata": {},
   "outputs": [],
   "source": [
    "df['old_target'] = (df['target_class'] % 2).apply(int)\n",
    "\n",
    "feature_cols = ['recency', 'history', 'used_discount', 'used_bogo', 'is_referral',\n",
    "                'zip_code_Rural', 'zip_code_Surburban', 'zip_code_Urban',\n",
    "                'channel_Multichannel', 'channel_Phone', 'channel_Web']\n",
    "target_col = 'old_target'\n",
    "treatment_col = 'treatment'"
   ]
  },
  {
   "cell_type": "code",
   "execution_count": 3,
   "id": "45d7f7fb-9890-4bae-88d9-7790b488f6e5",
   "metadata": {},
   "outputs": [],
   "source": [
    "from sklearn.model_selection import train_test_split\n",
    "\n",
    "df_train, df_test = train_test_split(\n",
    "    df, stratify=df[[treatment_col, target_col]], random_state=1, test_size=0.25\n",
    ")"
   ]
  },
  {
   "cell_type": "markdown",
   "id": "e68c4393-8a88-49ae-8dc0-7e091c40d079",
   "metadata": {},
   "source": [
    "## Задание 1 из 2\n",
    "\n",
    "Начнём с обучения S-learner на основе логистической регрессии. С помощью библиотеки Causal ML настройте автоматизацию обучения, которое ранее вы осуществляли вручную."
   ]
  },
  {
   "cell_type": "code",
   "execution_count": 8,
   "id": "5b5fd571-0519-4925-971e-674aa9ae9ba5",
   "metadata": {},
   "outputs": [],
   "source": [
    "from causalml.inference.meta import BaseSClassifier\n",
    "from sklearn.linear_model import LogisticRegression\n",
    "\n",
    "s_learner = BaseSClassifier(learner=LogisticRegression(random_state=1, verbose=0))\n",
    "\n",
    "# для обучения нам нужны датафрейм с факторами и колонка с фактом воздействия\n",
    "s_learner.fit(X=df_train[feature_cols],\n",
    "              treatment=df_train[treatment_col],\n",
    "              y=df_train[target_col])\n",
    "\n",
    "uplift_vals = s_learner.predict(np.array(df_test[feature_cols].values.copy()))"
   ]
  },
  {
   "cell_type": "code",
   "execution_count": 10,
   "id": "2a9c67e4-9ef6-4ed8-8a17-d61d3482eddc",
   "metadata": {},
   "outputs": [
    {
     "data": {
      "image/png": "[encoded data removed]",
      "text/plain": [
       "<Figure size 640x480 with 1 Axes>"
      ]
     },
     "metadata": {},
     "output_type": "display_data"
    },
    {
     "data": {
      "text/plain": [
       "20.99312"
      ]
     },
     "execution_count": 10,
     "metadata": {},
     "output_type": "execute_result"
    }
   ],
   "source": [
    "# оцените качество\n",
    "df_test['uplift_score'] = uplift_vals \n",
    "# посчитаем Qini Score по нашему датасету \n",
    "ranked = df_test.sort_values(\"uplift_score\", ascending=False)\n",
    "\n",
    "N_c = sum(ranked['target_class'] <= 1)\n",
    "N_t = sum(ranked['target_class'] >= 2)\n",
    "\n",
    "# посчитаем в отсортированном датафрейме основные показатели, \n",
    "# которые используются при расчёте Qini Score\n",
    "ranked['n_c1'] = 0\n",
    "ranked['n_t1'] = 0\n",
    "ranked.loc[ranked.target_class == 1,'n_c1'] = 1\n",
    "ranked.loc[ranked.target_class == 3,'n_t1'] = 1\n",
    "ranked['n_c1/nc'] = ranked.n_c1.cumsum() / N_c\n",
    "ranked['n_t1/nt'] = ranked.n_t1.cumsum() / N_t\n",
    "\n",
    "# посчитаем Qini-кривую и случайную прямую под ней\n",
    "ranked['uplift'] = ranked['n_t1/nt'] - ranked['n_c1/nc']\n",
    "# добавим случайную кривую\n",
    "ranked['random_uplift'] = ranked[\"uplift_score\"].rank(pct=True, ascending=False) * ranked['uplift'].iloc[-1]\n",
    "\n",
    "ranked[\"n\"] = ranked[\"uplift_score\"].rank(pct=True, ascending=False)\n",
    "# немного кода для визуализации\n",
    "plt.plot(ranked['n'], ranked['uplift'], color='r')\n",
    "plt.plot(ranked['n'], ranked['random_uplift'], color='b')\n",
    "plt.show()\n",
    "\n",
    "round((ranked['uplift'] - ranked['random_uplift']).sum(), 5)"
   ]
  },
  {
   "cell_type": "markdown",
   "id": "f161277c-e31e-45ff-be36-4364c539575c",
   "metadata": {},
   "source": [
    "Суть ясна, но снова возникает вопрос: почему значение качества поменялось? Все несоответствия возникают потому, что используются другие форматы данных. Простое объяснение: это внутренние процессы causalml, например прямая конвертация в numpy.array с маскированием treatment-эффекта. Детали: https://causalml.readthedocs.io/en/latest/_modules/causalml/inference/meta/slearner.html"
   ]
  },
  {
   "cell_type": "markdown",
   "id": "1aace56b-4fa8-4e2d-98d7-69830d12950f",
   "metadata": {},
   "source": [
    "## Задание 2 из 2\n",
    "Теперь обучите T-learner, используя Causal ML, и оцените его качество."
   ]
  },
  {
   "cell_type": "code",
   "execution_count": 4,
   "id": "bac1eb12-1605-4b59-ae42-a6848809d3f5",
   "metadata": {},
   "outputs": [],
   "source": [
    "from causalml.inference.meta import BaseTClassifier\n",
    "from sklearn.linear_model import LogisticRegression\n",
    "\n",
    "t_learner = BaseTClassifier(learner=LogisticRegression(random_state=1, verbose=0))\n",
    "\n",
    "# для обучения нам нужны датафрейм с факторами и колонка с фактом воздействия\n",
    "t_learner.fit(X=df_train[feature_cols],\n",
    "              treatment=df_train[treatment_col],\n",
    "              y=df_train[target_col])\n",
    "\n",
    "uplift_vals = t_learner.predict(np.array(df_test[feature_cols].values.copy()))"
   ]
  },
  {
   "cell_type": "code",
   "execution_count": 5,
   "id": "30124182-3256-4099-af4a-0e64c26e3aee",
   "metadata": {},
   "outputs": [
    {
     "data": {
      "image/png": "[encoded data removed]",
      "text/plain": [
       "<Figure size 640x480 with 1 Axes>"
      ]
     },
     "metadata": {},
     "output_type": "display_data"
    },
    {
     "data": {
      "text/plain": [
       "30.78098"
      ]
     },
     "execution_count": 5,
     "metadata": {},
     "output_type": "execute_result"
    }
   ],
   "source": [
    "# оцените качество\n",
    "df_test['uplift_score'] = uplift_vals \n",
    "# посчитаем Qini Score по нашему датасету \n",
    "ranked = df_test.sort_values(\"uplift_score\", ascending=False)\n",
    "\n",
    "N_c = sum(ranked['target_class'] <= 1)\n",
    "N_t = sum(ranked['target_class'] >= 2)\n",
    "\n",
    "# посчитаем в отсортированном датафрейме основные показатели, \n",
    "# которые используются при расчёте Qini Score\n",
    "ranked['n_c1'] = 0\n",
    "ranked['n_t1'] = 0\n",
    "ranked.loc[ranked.target_class == 1,'n_c1'] = 1\n",
    "ranked.loc[ranked.target_class == 3,'n_t1'] = 1\n",
    "ranked['n_c1/nc'] = ranked.n_c1.cumsum() / N_c\n",
    "ranked['n_t1/nt'] = ranked.n_t1.cumsum() / N_t\n",
    "\n",
    "# посчитаем Qini-кривую и случайную прямую под ней\n",
    "ranked['uplift'] = ranked['n_t1/nt'] - ranked['n_c1/nc']\n",
    "# добавим случайную кривую\n",
    "ranked['random_uplift'] = ranked[\"uplift_score\"].rank(pct=True, ascending=False) * ranked['uplift'].iloc[-1]\n",
    "\n",
    "ranked[\"n\"] = ranked[\"uplift_score\"].rank(pct=True, ascending=False)\n",
    "# немного кода для визуализации\n",
    "plt.plot(ranked['n'], ranked['uplift'], color='r')\n",
    "plt.plot(ranked['n'], ranked['random_uplift'], color='b')\n",
    "plt.show()\n",
    "\n",
    "round((ranked['uplift'] - ranked['random_uplift']).sum(), 5)"
   ]
  },
  {
   "cell_type": "markdown",
   "id": "7f033d1a-53cc-4d25-8e07-db877f89c90a",
   "metadata": {},
   "source": [
    "Какие выводы можно сделать? Да, числа не совпадают с предыдущими результатами: не существует строгих статистических критериев, которые бы определяли, какая модель будет лучше, — это делают эксперименты."
   ]
  },
  {
   "cell_type": "markdown",
   "id": "bbcb13e7-b03c-4ec1-b49b-4c412813b599",
   "metadata": {},
   "source": [
    "# X-learner"
   ]
  },
  {
   "cell_type": "markdown",
   "id": "6064a27b-1180-40eb-8ca9-52e4c493ff4b",
   "metadata": {},
   "source": [
    "В X-learner обучаются четыре модели: две на исходных данных и две, предсказывающие uplift эффект. Иногда обучается отдельная модель для оценки склонности.\n",
    "\n",
    "Требуется применить модель два раза — с двумя разными моделями, оценивающими uplift-эффект."
   ]
  },
  {
   "attachments": {
    "7338ac73-fc56-4978-a2c6-416a15bc8989.png": {
     "image/png": "[encoded data removed]"
    }
   },
   "cell_type": "markdown",
   "id": "ffdaaa86-9e5f-4d90-9073-44a8ebdb4ad2",
   "metadata": {},
   "source": [
    "![image.png](attachment:7338ac73-fc56-4978-a2c6-416a15bc8989.png)"
   ]
  },
  {
   "cell_type": "markdown",
   "id": "5a0cca55-bf3f-4ff3-a204-0d6a92a6b319",
   "metadata": {},
   "source": [
    "**Первая стадия:**\n",
    "- Обучающую выборку, состоящую из всех объектов, разбиваем на две выборки: на тех, кто получали воздействие (скидку), и тех, кто нет.\n",
    "- На каждой выборке учим свою модель и запоминаем, какая из моделей на какой выборке обучается.\n",
    "- Вычисляем новую целевую переменную:\n",
    "  - для контрольной группы — это разница между предсказанием модели, обученной на экспериментальной группе, и фактическим результатом;\n",
    "  - для экспериментальной группы — это разница между фактическим результатом и предсказанием модели отклика, обученной на контрольной группе.\n",
    "- Таким образом, новая целевая переменная — это uplift, как если бы воздействия не было там, где оно было, и было бы там, где его не было.\n",
    "- Учим модели на новые целевые переменные: первая модель предсказывать uplift на контрольной группе, если на неё повоздействовать, а вторая — если этого не делать.\n",
    "\n",
    "**Вторая стадия:**\n",
    "- Для каждого объекта применяем модель $\\hat{M}_{\\tau0}(X)$, предсказывающую uplift, если объект попадает в контрольную группу.\n",
    "- Для каждого объекта применяем модель $\\hat{M}_{\\tau1}(X)$, предсказывающую uplift, если объект попадает в экспериментальную группу.\n",
    "- Итоговый uplift — взвешенное предсказание двух моделей."
   ]
  },
  {
   "cell_type": "markdown",
   "id": "6615ea85-11ca-428f-aca6-6766656f4411",
   "metadata": {},
   "source": [
    "Данный подход помогает эффективно работать с несбалансированными данными, так как модели обучаются на оценках uplift-эффекта для «противоположных» групп. Это позволяет X-learner более точно распознавать и предсказывать эффект воздействия, даже когда данные не сбалансированы. "
   ]
  },
  {
   "cell_type": "code",
   "execution_count": 49,
   "id": "eff2fb5d-ff56-4a82-9eb5-22504776412f",
   "metadata": {},
   "outputs": [
    {
     "data": {
      "text/html": [
       "<div>\n",
       "<style scoped>\n",
       "    .dataframe tbody tr th:only-of-type {\n",
       "        vertical-align: middle;\n",
       "    }\n",
       "\n",
       "    .dataframe tbody tr th {\n",
       "        vertical-align: top;\n",
       "    }\n",
       "\n",
       "    .dataframe thead th {\n",
       "        text-align: right;\n",
       "    }\n",
       "</style>\n",
       "<table border=\"1\" class=\"dataframe\">\n",
       "  <thead>\n",
       "    <tr style=\"text-align: right;\">\n",
       "      <th></th>\n",
       "      <th>recency</th>\n",
       "      <th>history</th>\n",
       "      <th>used_discount</th>\n",
       "      <th>used_bogo</th>\n",
       "      <th>is_referral</th>\n",
       "      <th>treatment</th>\n",
       "      <th>zip_code_Rural</th>\n",
       "      <th>zip_code_Surburban</th>\n",
       "      <th>zip_code_Urban</th>\n",
       "      <th>channel_Multichannel</th>\n",
       "      <th>channel_Phone</th>\n",
       "      <th>channel_Web</th>\n",
       "      <th>proba_CN</th>\n",
       "      <th>proba_CR</th>\n",
       "      <th>proba_TN</th>\n",
       "      <th>proba_TR</th>\n",
       "      <th>uplift_score</th>\n",
       "      <th>target_class</th>\n",
       "      <th>old_target</th>\n",
       "    </tr>\n",
       "  </thead>\n",
       "  <tbody>\n",
       "    <tr>\n",
       "      <th>309</th>\n",
       "      <td>10</td>\n",
       "      <td>95.49</td>\n",
       "      <td>0</td>\n",
       "      <td>1</td>\n",
       "      <td>1</td>\n",
       "      <td>1</td>\n",
       "      <td>1</td>\n",
       "      <td>0</td>\n",
       "      <td>0</td>\n",
       "      <td>0</td>\n",
       "      <td>0</td>\n",
       "      <td>1</td>\n",
       "      <td>0.385971</td>\n",
       "      <td>0.033124</td>\n",
       "      <td>0.501814</td>\n",
       "      <td>0.079090</td>\n",
       "      <td>0.114224</td>\n",
       "      <td>2</td>\n",
       "      <td>1</td>\n",
       "    </tr>\n",
       "    <tr>\n",
       "      <th>5927</th>\n",
       "      <td>6</td>\n",
       "      <td>293.78</td>\n",
       "      <td>1</td>\n",
       "      <td>1</td>\n",
       "      <td>1</td>\n",
       "      <td>0</td>\n",
       "      <td>0</td>\n",
       "      <td>1</td>\n",
       "      <td>0</td>\n",
       "      <td>0</td>\n",
       "      <td>0</td>\n",
       "      <td>1</td>\n",
       "      <td>0.522508</td>\n",
       "      <td>0.060261</td>\n",
       "      <td>0.311440</td>\n",
       "      <td>0.105791</td>\n",
       "      <td>0.300301</td>\n",
       "      <td>1</td>\n",
       "      <td>0</td>\n",
       "    </tr>\n",
       "    <tr>\n",
       "      <th>8778</th>\n",
       "      <td>6</td>\n",
       "      <td>29.99</td>\n",
       "      <td>0</td>\n",
       "      <td>1</td>\n",
       "      <td>1</td>\n",
       "      <td>0</td>\n",
       "      <td>0</td>\n",
       "      <td>1</td>\n",
       "      <td>0</td>\n",
       "      <td>0</td>\n",
       "      <td>0</td>\n",
       "      <td>1</td>\n",
       "      <td>0.453994</td>\n",
       "      <td>0.041645</td>\n",
       "      <td>0.437831</td>\n",
       "      <td>0.066529</td>\n",
       "      <td>0.095770</td>\n",
       "      <td>0</td>\n",
       "      <td>1</td>\n",
       "    </tr>\n",
       "    <tr>\n",
       "      <th>11331</th>\n",
       "      <td>5</td>\n",
       "      <td>467.42</td>\n",
       "      <td>1</td>\n",
       "      <td>1</td>\n",
       "      <td>0</td>\n",
       "      <td>0</td>\n",
       "      <td>0</td>\n",
       "      <td>0</td>\n",
       "      <td>1</td>\n",
       "      <td>0</td>\n",
       "      <td>1</td>\n",
       "      <td>0</td>\n",
       "      <td>0.405045</td>\n",
       "      <td>0.134821</td>\n",
       "      <td>0.225336</td>\n",
       "      <td>0.234798</td>\n",
       "      <td>0.521099</td>\n",
       "      <td>0</td>\n",
       "      <td>1</td>\n",
       "    </tr>\n",
       "    <tr>\n",
       "      <th>4924</th>\n",
       "      <td>2</td>\n",
       "      <td>326.64</td>\n",
       "      <td>1</td>\n",
       "      <td>0</td>\n",
       "      <td>0</td>\n",
       "      <td>1</td>\n",
       "      <td>0</td>\n",
       "      <td>0</td>\n",
       "      <td>1</td>\n",
       "      <td>0</td>\n",
       "      <td>1</td>\n",
       "      <td>0</td>\n",
       "      <td>0.514283</td>\n",
       "      <td>0.047125</td>\n",
       "      <td>0.370299</td>\n",
       "      <td>0.068294</td>\n",
       "      <td>0.143541</td>\n",
       "      <td>3</td>\n",
       "      <td>0</td>\n",
       "    </tr>\n",
       "  </tbody>\n",
       "</table>\n",
       "</div>"
      ],
      "text/plain": [
       "       recency  history  used_discount  used_bogo  is_referral  treatment  \\\n",
       "309         10    95.49              0          1            1          1   \n",
       "5927         6   293.78              1          1            1          0   \n",
       "8778         6    29.99              0          1            1          0   \n",
       "11331        5   467.42              1          1            0          0   \n",
       "4924         2   326.64              1          0            0          1   \n",
       "\n",
       "       zip_code_Rural  zip_code_Surburban  zip_code_Urban  \\\n",
       "309                 1                   0               0   \n",
       "5927                0                   1               0   \n",
       "8778                0                   1               0   \n",
       "11331               0                   0               1   \n",
       "4924                0                   0               1   \n",
       "\n",
       "       channel_Multichannel  channel_Phone  channel_Web  proba_CN  proba_CR  \\\n",
       "309                       0              0            1  0.385971  0.033124   \n",
       "5927                      0              0            1  0.522508  0.060261   \n",
       "8778                      0              0            1  0.453994  0.041645   \n",
       "11331                     0              1            0  0.405045  0.134821   \n",
       "4924                      0              1            0  0.514283  0.047125   \n",
       "\n",
       "       proba_TN  proba_TR  uplift_score  target_class  old_target  \n",
       "309    0.501814  0.079090      0.114224             2           1  \n",
       "5927   0.311440  0.105791      0.300301             1           0  \n",
       "8778   0.437831  0.066529      0.095770             0           1  \n",
       "11331  0.225336  0.234798      0.521099             0           1  \n",
       "4924   0.370299  0.068294      0.143541             3           0  "
      ]
     },
     "execution_count": 49,
     "metadata": {},
     "output_type": "execute_result"
    }
   ],
   "source": [
    "# загружаем необходимые библиотеки\n",
    "import numpy as np\n",
    "import pandas as pd\n",
    "import warnings\n",
    "\n",
    "from matplotlib import pyplot as plt\n",
    "from sklearn.model_selection import train_test_split\n",
    "\n",
    "warnings.filterwarnings('ignore')\n",
    "\n",
    "np.random.seed(1)\n",
    "\n",
    "%matplotlib inline\n",
    "# загружаем датафрейм\n",
    "discount = pd.read_csv(\"datasets/discountuplift.csv\", sep=\"\\t\")\n",
    "\n",
    "# реализуем подсчёт Qini Score:\n",
    "def qini_df(df):\n",
    "    # отранжируем выборку по значению uplift в порядке убывания\n",
    "    ranked = df.sort_values(\"uplift_score\", ascending=False)\n",
    "    \n",
    "    N_c = sum(ranked['target_class'] <= 1)\n",
    "    N_t = sum(ranked['target_class'] >= 2)\n",
    "    \n",
    "    # посчитаем в отсортированном датафрейме основные показатели, \n",
    "    # которые используются при расчёте Qini Score\n",
    "    ranked['n_c1'] = 0\n",
    "    ranked['n_t1'] = 0\n",
    "    ranked.loc[ranked.target_class == 1,'n_c1'] = 1\n",
    "    ranked.loc[ranked.target_class == 3,'n_t1'] = 1\n",
    "    ranked['n_c1/nc'] = ranked.n_c1.cumsum() / N_c\n",
    "    ranked['n_t1/nt'] = ranked.n_t1.cumsum() / N_t\n",
    "    \n",
    "    # посчитаем Qini-кривую и случайную прямую под ней\n",
    "    ranked['uplift'] = round(ranked['n_t1/nt'] - ranked['n_c1/nc'],5)\n",
    "    # добавим случайную кривую\n",
    "    ranked['random_uplift'] = round(ranked[\"uplift_score\"].rank(pct=True, ascending=False) * ranked['uplift'].iloc[-1],5)\n",
    "    \n",
    "    ranked[\"n\"] = ranked[\"uplift_score\"].rank(pct=True, ascending=False)\n",
    "    # немного кода для визуализации\n",
    "    plt.plot(ranked['n'], ranked['uplift'], color='r')\n",
    "    plt.plot(ranked['n'], ranked['random_uplift'], color='b')\n",
    "    plt.show()\n",
    "    \n",
    "    return (ranked['uplift'] - ranked['random_uplift']).sum()\n",
    " \n",
    "discount['old_target'] = (discount['target_class'] % 2 == 0).apply(int)\n",
    "\n",
    "feature_cols = ['recency', 'history', 'used_discount', 'used_bogo', 'is_referral',\n",
    "                'zip_code_Rural', 'zip_code_Surburban', 'zip_code_Urban',\n",
    "                'channel_Multichannel', 'channel_Phone', 'channel_Web']\n",
    "target_col = 'old_target'\n",
    "treatment_col = 'treatment'\n",
    "\n",
    "# разобъём нашу выборку на тестовую и валидационную\n",
    "\n",
    "df_train, df_test = train_test_split(discount, stratify=discount[[treatment_col, target_col]], random_state=1, test_size=0.25)\n",
    "df_train.head()"
   ]
  },
  {
   "cell_type": "markdown",
   "id": "eff7cc2c-ae5f-4fa1-b993-508c314b0aac",
   "metadata": {},
   "source": [
    "## Задание"
   ]
  },
  {
   "cell_type": "markdown",
   "id": "751134a2-567b-469e-94b0-5fde1b04272a",
   "metadata": {},
   "source": [
    "Постройте X-learner для решения задачи классификации.\n",
    "Для этого импортируйте X-learner из библиотеки Causal ML, а именно из\n",
    "`causalml.inference.meta`.\n",
    "X-learner доступен как класс `BaseXClassifier`."
   ]
  },
  {
   "cell_type": "code",
   "execution_count": 50,
   "id": "bffe9041-037e-4dfd-91f6-d66ed6cdc824",
   "metadata": {},
   "outputs": [],
   "source": [
    "from causalml.inference.meta import BaseXClassifier # импортируйте необходимый класс из causalml (базовый классификатор)\n",
    "from sklearn.linear_model import LogisticRegression, LinearRegression\n",
    "\n",
    "# создадим базовый X-learner:\n",
    "# создайте классификатор с логистической регрессией,\n",
    "# указав outcome_learner=LogisticRegression(random_state=13)\n",
    "# и линейной регрессией для uplift-классификатора\n",
    "# указав effect_learner=LinearRegression()\n",
    "x_learner = BaseXClassifier(\n",
    "    outcome_learner=LogisticRegression(random_state=13),\n",
    "    effect_learner=LinearRegression()\n",
    ")\n",
    "\n",
    "# для обучения нужны датафрейм с факторами и колонка с фактом воздействия\n",
    "x_learner.fit(X=df_train[feature_cols],\n",
    "              treatment=df_train[treatment_col],\n",
    "              y=df_train[target_col])\n",
    "\n",
    "uplift_vals = x_learner.predict(np.array(df_test[feature_cols].values.copy()))\n",
    "df_test['uplift_score'] = uplift_vals"
   ]
  },
  {
   "cell_type": "code",
   "execution_count": 51,
   "id": "c620df41-b60b-4c88-99ee-6016f3169bc4",
   "metadata": {},
   "outputs": [
    {
     "data": {
      "image/png": "[encoded data removed]",
      "text/plain": [
       "<Figure size 640x480 with 1 Axes>"
      ]
     },
     "metadata": {},
     "output_type": "display_data"
    },
    {
     "data": {
      "text/plain": [
       "-5.310669999999999"
      ]
     },
     "execution_count": 51,
     "metadata": {},
     "output_type": "execute_result"
    }
   ],
   "source": [
    "# оцените Qini Score для обученного классификатора на тестовой выборке\n",
    "qini_df(df_test)"
   ]
  },
  {
   "cell_type": "markdown",
   "id": "079aa95d-ab14-4ca4-a148-76dea4519055",
   "metadata": {},
   "source": [
    "Качество новой модели, возможно, ухудшилось — алгоритмы из предыдущей темы сработали лучше. В данном случае причина кроется в размере выборки. Мы получаем несмещённую оценку с нашим X-learner, но это требует большего объёма данных. В реальной практике часто ограничиваются тем, что используют базовые подходы, но про X-learner забывать нельзя, особенно если вы работаете в научной индустрии, такой как биотехнологии и т. д."
   ]
  },
  {
   "cell_type": "markdown",
   "id": "e83a7206-0c0d-46c4-8027-9b6643468703",
   "metadata": {},
   "source": [
    "# R-Learner "
   ]
  },
  {
   "cell_type": "markdown",
   "id": "65612dae-75c6-4262-b8c3-f780fce00234",
   "metadata": {},
   "source": [
    "R-Learner — это подход к uplift-моделированию и анализу причинно-следственных связей. Он решает ту же задачу uplift-моделирования, что и разобранные ранее подходы, но в отличие от них пытается предсказать uplift-эффект одной моделью, которая строится поверх частных n моделей.\n",
    "\n",
    "R-learner решает те же проблемы, что и X-learner, но делает это, вводя особую функцию потерь, с которой вы познакомитесь далее.\n",
    "\n",
    "В R-lerner обучается n моделей/алгоритмов (out-of-fold) — их число определяется путём экспериментов."
   ]
  },
  {
   "cell_type": "markdown",
   "id": "68587bde-712e-456c-be1e-6f1584f838ba",
   "metadata": {},
   "source": [
    "**Шаг 1**\n",
    "\n",
    "Обучим несколько частных моделей — таких, которые учатся на части семплов и делают предсказания на оставшихся. С помощью этого разбиения можно получить разные частные модели, каждая из которых «видела» только часть данных. Затем сделаем предсказания для e(x)\n",
    "e(x) и m(x), где:\n",
    "- e(x) — это вероятность объекта попасть под целевое воздействие. В простейшем случае — это доля объектов с целевым воздействием или доля объектов в А/B-тесте. Та же самая оценка склонности, которую мы разбирали ранее.\n",
    "$$e^∗(x)=pr(T=1∣X=x)$$\n",
    "- m(x) — среднее значение целевой переменной на объекте выборки.\n",
    "$$m^∗(x)=E(Y∣X=x)=μ_{(0)}+e^∗(X_i)τ^∗(X_i)$$\n",
    "\n",
    "То есть средний результат на объекте — это предсказание без дополнительного воздействия + вероятность дополнительного воздействия на объект, помноженный на эффект от воздействия.\n",
    "\n",
    "Теперь для каждого объекта есть средние значения целевой переменной и оценка склонности.\n",
    "\n",
    "Uplift-эффект в таком случае равен таргету — среднему воздействию:\n",
    "\n",
    "$$Y_i - m^∗(X_i) = [T_i - e^∗(X_i)]τ^∗(X_i)+ϵ_i$$\n",
    " \n",
    "У нас получилась оценка uplift и его аппроксимация функцией (моделью машинного обучения). Как её оптимизировать, чтобы получить наиболее точные предсказания? Например, с помощью среднеквадратической ошибки (MSE), что и будет функцией потерь.\n",
    "\n",
    "**Шаг 2**\n",
    "\n",
    "Обучим саму uplift-модель на функцию потерь MSE:\n",
    "\n",
    "$$L_n(τ(x)) = \\frac{1}{n} \\sum_{i=1}^{n}{((Y_i-m^{-i}(X_i)) - (T_i - e^{-i}(X_i))τ(X_i)^2}$$"
   ]
  },
  {
   "cell_type": "code",
   "execution_count": 52,
   "id": "76bedb2f-201d-4aed-a26f-b38afc548f35",
   "metadata": {},
   "outputs": [
    {
     "data": {
      "text/html": [
       "<div>\n",
       "<style scoped>\n",
       "    .dataframe tbody tr th:only-of-type {\n",
       "        vertical-align: middle;\n",
       "    }\n",
       "\n",
       "    .dataframe tbody tr th {\n",
       "        vertical-align: top;\n",
       "    }\n",
       "\n",
       "    .dataframe thead th {\n",
       "        text-align: right;\n",
       "    }\n",
       "</style>\n",
       "<table border=\"1\" class=\"dataframe\">\n",
       "  <thead>\n",
       "    <tr style=\"text-align: right;\">\n",
       "      <th></th>\n",
       "      <th>recency</th>\n",
       "      <th>history</th>\n",
       "      <th>used_discount</th>\n",
       "      <th>used_bogo</th>\n",
       "      <th>is_referral</th>\n",
       "      <th>treatment</th>\n",
       "      <th>zip_code_Rural</th>\n",
       "      <th>zip_code_Surburban</th>\n",
       "      <th>zip_code_Urban</th>\n",
       "      <th>channel_Multichannel</th>\n",
       "      <th>channel_Phone</th>\n",
       "      <th>channel_Web</th>\n",
       "      <th>proba_CN</th>\n",
       "      <th>proba_CR</th>\n",
       "      <th>proba_TN</th>\n",
       "      <th>proba_TR</th>\n",
       "      <th>uplift_score</th>\n",
       "      <th>target_class</th>\n",
       "      <th>old_target</th>\n",
       "    </tr>\n",
       "  </thead>\n",
       "  <tbody>\n",
       "    <tr>\n",
       "      <th>309</th>\n",
       "      <td>10</td>\n",
       "      <td>95.49</td>\n",
       "      <td>0</td>\n",
       "      <td>1</td>\n",
       "      <td>1</td>\n",
       "      <td>1</td>\n",
       "      <td>1</td>\n",
       "      <td>0</td>\n",
       "      <td>0</td>\n",
       "      <td>0</td>\n",
       "      <td>0</td>\n",
       "      <td>1</td>\n",
       "      <td>0.385971</td>\n",
       "      <td>0.033124</td>\n",
       "      <td>0.501814</td>\n",
       "      <td>0.079090</td>\n",
       "      <td>0.114224</td>\n",
       "      <td>2</td>\n",
       "      <td>1</td>\n",
       "    </tr>\n",
       "    <tr>\n",
       "      <th>5927</th>\n",
       "      <td>6</td>\n",
       "      <td>293.78</td>\n",
       "      <td>1</td>\n",
       "      <td>1</td>\n",
       "      <td>1</td>\n",
       "      <td>0</td>\n",
       "      <td>0</td>\n",
       "      <td>1</td>\n",
       "      <td>0</td>\n",
       "      <td>0</td>\n",
       "      <td>0</td>\n",
       "      <td>1</td>\n",
       "      <td>0.522508</td>\n",
       "      <td>0.060261</td>\n",
       "      <td>0.311440</td>\n",
       "      <td>0.105791</td>\n",
       "      <td>0.300301</td>\n",
       "      <td>1</td>\n",
       "      <td>0</td>\n",
       "    </tr>\n",
       "    <tr>\n",
       "      <th>8778</th>\n",
       "      <td>6</td>\n",
       "      <td>29.99</td>\n",
       "      <td>0</td>\n",
       "      <td>1</td>\n",
       "      <td>1</td>\n",
       "      <td>0</td>\n",
       "      <td>0</td>\n",
       "      <td>1</td>\n",
       "      <td>0</td>\n",
       "      <td>0</td>\n",
       "      <td>0</td>\n",
       "      <td>1</td>\n",
       "      <td>0.453994</td>\n",
       "      <td>0.041645</td>\n",
       "      <td>0.437831</td>\n",
       "      <td>0.066529</td>\n",
       "      <td>0.095770</td>\n",
       "      <td>0</td>\n",
       "      <td>1</td>\n",
       "    </tr>\n",
       "    <tr>\n",
       "      <th>11331</th>\n",
       "      <td>5</td>\n",
       "      <td>467.42</td>\n",
       "      <td>1</td>\n",
       "      <td>1</td>\n",
       "      <td>0</td>\n",
       "      <td>0</td>\n",
       "      <td>0</td>\n",
       "      <td>0</td>\n",
       "      <td>1</td>\n",
       "      <td>0</td>\n",
       "      <td>1</td>\n",
       "      <td>0</td>\n",
       "      <td>0.405045</td>\n",
       "      <td>0.134821</td>\n",
       "      <td>0.225336</td>\n",
       "      <td>0.234798</td>\n",
       "      <td>0.521099</td>\n",
       "      <td>0</td>\n",
       "      <td>1</td>\n",
       "    </tr>\n",
       "    <tr>\n",
       "      <th>4924</th>\n",
       "      <td>2</td>\n",
       "      <td>326.64</td>\n",
       "      <td>1</td>\n",
       "      <td>0</td>\n",
       "      <td>0</td>\n",
       "      <td>1</td>\n",
       "      <td>0</td>\n",
       "      <td>0</td>\n",
       "      <td>1</td>\n",
       "      <td>0</td>\n",
       "      <td>1</td>\n",
       "      <td>0</td>\n",
       "      <td>0.514283</td>\n",
       "      <td>0.047125</td>\n",
       "      <td>0.370299</td>\n",
       "      <td>0.068294</td>\n",
       "      <td>0.143541</td>\n",
       "      <td>3</td>\n",
       "      <td>0</td>\n",
       "    </tr>\n",
       "  </tbody>\n",
       "</table>\n",
       "</div>"
      ],
      "text/plain": [
       "       recency  history  used_discount  used_bogo  is_referral  treatment  \\\n",
       "309         10    95.49              0          1            1          1   \n",
       "5927         6   293.78              1          1            1          0   \n",
       "8778         6    29.99              0          1            1          0   \n",
       "11331        5   467.42              1          1            0          0   \n",
       "4924         2   326.64              1          0            0          1   \n",
       "\n",
       "       zip_code_Rural  zip_code_Surburban  zip_code_Urban  \\\n",
       "309                 1                   0               0   \n",
       "5927                0                   1               0   \n",
       "8778                0                   1               0   \n",
       "11331               0                   0               1   \n",
       "4924                0                   0               1   \n",
       "\n",
       "       channel_Multichannel  channel_Phone  channel_Web  proba_CN  proba_CR  \\\n",
       "309                       0              0            1  0.385971  0.033124   \n",
       "5927                      0              0            1  0.522508  0.060261   \n",
       "8778                      0              0            1  0.453994  0.041645   \n",
       "11331                     0              1            0  0.405045  0.134821   \n",
       "4924                      0              1            0  0.514283  0.047125   \n",
       "\n",
       "       proba_TN  proba_TR  uplift_score  target_class  old_target  \n",
       "309    0.501814  0.079090      0.114224             2           1  \n",
       "5927   0.311440  0.105791      0.300301             1           0  \n",
       "8778   0.437831  0.066529      0.095770             0           1  \n",
       "11331  0.225336  0.234798      0.521099             0           1  \n",
       "4924   0.370299  0.068294      0.143541             3           0  "
      ]
     },
     "execution_count": 52,
     "metadata": {},
     "output_type": "execute_result"
    }
   ],
   "source": [
    "# загружаем необходимые библиотеки\n",
    "import numpy as np\n",
    "import pandas as pd\n",
    "import warnings\n",
    "\n",
    "from matplotlib import pyplot as plt\n",
    "from sklearn.model_selection import train_test_split\n",
    "\n",
    "warnings.filterwarnings('ignore')\n",
    "\n",
    "np.random.seed(1)\n",
    "\n",
    "%matplotlib inline\n",
    "# загружаем датафрейм\n",
    "discount = pd.read_csv(\"datasets/discountuplift.csv\", sep=\"\\t\")\n",
    "\n",
    "# реализуем подсчёт Qini Score:\n",
    "def qini_df(df):\n",
    "    # отранжируем выборку по значению uplift в порядке убывания\n",
    "    ranked = df.sort_values(\"uplift_score\", ascending=False)\n",
    "    \n",
    "    N_c = sum(ranked['target_class'] <= 1)\n",
    "    N_t = sum(ranked['target_class'] >= 2)\n",
    "    \n",
    "    # посчитаем в отсортированном датафрейме основные показатели, \n",
    "    # которые используются при расчёте Qini Score\n",
    "    ranked['n_c1'] = 0\n",
    "    ranked['n_t1'] = 0\n",
    "    ranked.loc[ranked.target_class == 1,'n_c1'] = 1\n",
    "    ranked.loc[ranked.target_class == 3,'n_t1'] = 1\n",
    "    ranked['n_c1/nc'] = ranked.n_c1.cumsum() / N_c\n",
    "    ranked['n_t1/nt'] = ranked.n_t1.cumsum() / N_t\n",
    "    \n",
    "    # посчитаем qini-кривую и случайную прямую под ней\n",
    "    ranked['uplift'] = round(ranked['n_t1/nt'] - ranked['n_c1/nc'],5)\n",
    "    # Добавим случайную кривую\n",
    "    ranked['random_uplift'] = round(ranked[\"uplift_score\"].rank(pct=True, ascending=False) * ranked['uplift'].iloc[-1],5)\n",
    "    \n",
    "    ranked[\"n\"] = ranked[\"uplift_score\"].rank(pct=True, ascending=False)\n",
    "    # немного кода для визуализации\n",
    "    plt.plot(ranked['n'], ranked['uplift'], color='r')\n",
    "    plt.plot(ranked['n'], ranked['random_uplift'], color='b')\n",
    "    plt.show()\n",
    "    \n",
    "    return (ranked['uplift'] - ranked['random_uplift']).sum()\n",
    " \n",
    "discount['old_target'] = (discount['target_class'] % 2 == 0).apply(int)\n",
    "\n",
    "feature_cols = ['recency', 'history', 'used_discount', 'used_bogo', 'is_referral',\n",
    "                'zip_code_Rural', 'zip_code_Surburban', 'zip_code_Urban',\n",
    "                'channel_Multichannel', 'channel_Phone', 'channel_Web']\n",
    "target_col = 'old_target'\n",
    "treatment_col = 'treatment'\n",
    "\n",
    "# разобъём нашу выборку на тестовую и валидационную\n",
    "\n",
    "df_train, df_test = train_test_split(discount, stratify=discount[[treatment_col, target_col]], random_state=1, test_size=0.25)\n",
    "df_train.head()"
   ]
  },
  {
   "cell_type": "markdown",
   "id": "614a4463-9ce6-4ee1-8097-4eb530b17a49",
   "metadata": {},
   "source": [
    "## Задание\n",
    "\n",
    "Дополните код ниже для использования R-learner.\n",
    "Интерфейс для него в классе `BaseRClassifier`.\n",
    "В качестве частных моделей используйте `LogisticRegression`, указав `random_state=1`, в качестве самого R-learner — `LinearRegression`.\n",
    "В конце задания оцените модель на тестовой выборке через Qini Score."
   ]
  },
  {
   "cell_type": "code",
   "execution_count": 53,
   "id": "ea1a568b-4785-4bf4-9c22-829a253dcf69",
   "metadata": {},
   "outputs": [],
   "source": [
    "# импортируйте необходимый класс из causalml (базовый классификатор)\n",
    "from causalml.inference.meta import BaseRClassifier # импортируйте необходимый класс из causalml (базовый классификатор)\n",
    "\n",
    "# ипмортируйте LogisticRegression и LinearRegression модели как частные\n",
    "from sklearn.linear_model import LogisticRegression, LinearRegression"
   ]
  },
  {
   "cell_type": "code",
   "execution_count": 54,
   "id": "8de2d4f9-f642-4b17-a865-11445e17e867",
   "metadata": {},
   "outputs": [
    {
     "name": "stderr",
     "output_type": "stream",
     "text": [
      "/home/mle-user/mle_projects/mle-uplift/venv/lib/python3.10/site-packages/sklearn/linear_model/_logistic.py:469: ConvergenceWarning: lbfgs failed to converge (status=1):\n",
      "STOP: TOTAL NO. of ITERATIONS REACHED LIMIT.\n",
      "\n",
      "Increase the number of iterations (max_iter) or scale the data as shown in:\n",
      "    https://scikit-learn.org/stable/modules/preprocessing.html\n",
      "Please also refer to the documentation for alternative solver options:\n",
      "    https://scikit-learn.org/stable/modules/linear_model.html#logistic-regression\n",
      "  n_iter_i = _check_optimize_result(\n",
      "/home/mle-user/mle_projects/mle-uplift/venv/lib/python3.10/site-packages/sklearn/linear_model/_logistic.py:469: ConvergenceWarning: lbfgs failed to converge (status=1):\n",
      "STOP: TOTAL NO. of ITERATIONS REACHED LIMIT.\n",
      "\n",
      "Increase the number of iterations (max_iter) or scale the data as shown in:\n",
      "    https://scikit-learn.org/stable/modules/preprocessing.html\n",
      "Please also refer to the documentation for alternative solver options:\n",
      "    https://scikit-learn.org/stable/modules/linear_model.html#logistic-regression\n",
      "  n_iter_i = _check_optimize_result(\n",
      "/home/mle-user/mle_projects/mle-uplift/venv/lib/python3.10/site-packages/sklearn/linear_model/_logistic.py:469: ConvergenceWarning: lbfgs failed to converge (status=1):\n",
      "STOP: TOTAL NO. of ITERATIONS REACHED LIMIT.\n",
      "\n",
      "Increase the number of iterations (max_iter) or scale the data as shown in:\n",
      "    https://scikit-learn.org/stable/modules/preprocessing.html\n",
      "Please also refer to the documentation for alternative solver options:\n",
      "    https://scikit-learn.org/stable/modules/linear_model.html#logistic-regression\n",
      "  n_iter_i = _check_optimize_result(\n",
      "/home/mle-user/mle_projects/mle-uplift/venv/lib/python3.10/site-packages/sklearn/linear_model/_logistic.py:469: ConvergenceWarning: lbfgs failed to converge (status=1):\n",
      "STOP: TOTAL NO. of ITERATIONS REACHED LIMIT.\n",
      "\n",
      "Increase the number of iterations (max_iter) or scale the data as shown in:\n",
      "    https://scikit-learn.org/stable/modules/preprocessing.html\n",
      "Please also refer to the documentation for alternative solver options:\n",
      "    https://scikit-learn.org/stable/modules/linear_model.html#logistic-regression\n",
      "  n_iter_i = _check_optimize_result(\n",
      "/home/mle-user/mle_projects/mle-uplift/venv/lib/python3.10/site-packages/sklearn/linear_model/_logistic.py:469: ConvergenceWarning: lbfgs failed to converge (status=1):\n",
      "STOP: TOTAL NO. of ITERATIONS REACHED LIMIT.\n",
      "\n",
      "Increase the number of iterations (max_iter) or scale the data as shown in:\n",
      "    https://scikit-learn.org/stable/modules/preprocessing.html\n",
      "Please also refer to the documentation for alternative solver options:\n",
      "    https://scikit-learn.org/stable/modules/linear_model.html#logistic-regression\n",
      "  n_iter_i = _check_optimize_result(\n"
     ]
    }
   ],
   "source": [
    "# создадим базовый R-learner:\n",
    "# создайте классификатор с логистической регрессией (random_state=1) для первого этапа\n",
    "# и линейной регрессией для uplift-классификатора\n",
    "r_learner = BaseRClassifier(\n",
    "    outcome_learner=LogisticRegression(random_state=1),\n",
    "    effect_learner=LinearRegression()\n",
    ")\n",
    "# для обучения нужны датафрем с факторами и колонка с фактом воздействия\n",
    "r_learner.fit(X=df_train[feature_cols],\n",
    "              treatment=df_train[treatment_col],\n",
    "              y=df_train[target_col])\n",
    "\n",
    "uplift_vals = r_learner.predict(np.array(df_test[feature_cols].values.copy()))\n",
    "df_test['uplift_score'] = uplift_vals"
   ]
  },
  {
   "cell_type": "code",
   "execution_count": 55,
   "id": "494e0cc2-3a92-4b16-a0d2-1f5410031b61",
   "metadata": {},
   "outputs": [
    {
     "data": {
      "image/png": "[encoded data removed]",
      "text/plain": [
       "<Figure size 640x480 with 1 Axes>"
      ]
     },
     "metadata": {},
     "output_type": "display_data"
    },
    {
     "data": {
      "text/plain": [
       "-5.49193"
      ]
     },
     "execution_count": 55,
     "metadata": {},
     "output_type": "execute_result"
    }
   ],
   "source": [
    "# оцените Qini Score для обученного классификатора\n",
    "\n",
    "qini_df(df_test)"
   ]
  },
  {
   "cell_type": "markdown",
   "id": "dfaf5873-d1a4-42b6-8213-262832614956",
   "metadata": {},
   "source": [
    "Кажется, что качество модели опять ухудшилось! Вот так сюрприз! Причина та же самая — размер выборки. К сожалению, X-learner и R-learner дают ощутимый рост качества только на задачах с большим объёмом данных."
   ]
  },
  {
   "cell_type": "markdown",
   "id": "3e09ff98-8e49-4993-b981-f413974312cc",
   "metadata": {},
   "source": [
    "# Uplift-деревья"
   ]
  },
  {
   "cell_type": "markdown",
   "id": "aa361e20-31cd-4425-940d-34e12b5d514f",
   "metadata": {},
   "source": [
    "Uplift-деревья — это деревья решений, адаптированные под задачу uplift-моделирования. Они помогают визуализировать и интерпретировать влияние различных факторов на разницу в реакции на целевое воздействие.\n",
    "\n",
    "Uplift-деревья модифицируют традиционный алгоритм дерева решений, чтобы  оптимизировать uplift, — вместо решения задачи классификации или регрессии. Ключевое различие кроется в функции разделения, которое используется в каждом узле дерева. Вместо использования стандартных критериев, таких как энтропия или Gini Impurity (подробнее об этом можно почитать в статье), uplift-деревья используют критерии, которые измеряют разницу в распределениях uplift между контрольной и экспериментальной группами. \n",
    "\n",
    "Цель: найти такие разделения, которые максимизируют разницу между контрольной и экспериментальной группами, тем самым выявляя подгруппы, где воздействие на объекты имеет наибольший эффект."
   ]
  },
  {
   "cell_type": "code",
   "execution_count": 61,
   "id": "d29ff315-d9e5-43dd-88ef-2625f75778ae",
   "metadata": {},
   "outputs": [
    {
     "data": {
      "text/html": [
       "<div>\n",
       "<style scoped>\n",
       "    .dataframe tbody tr th:only-of-type {\n",
       "        vertical-align: middle;\n",
       "    }\n",
       "\n",
       "    .dataframe tbody tr th {\n",
       "        vertical-align: top;\n",
       "    }\n",
       "\n",
       "    .dataframe thead th {\n",
       "        text-align: right;\n",
       "    }\n",
       "</style>\n",
       "<table border=\"1\" class=\"dataframe\">\n",
       "  <thead>\n",
       "    <tr style=\"text-align: right;\">\n",
       "      <th></th>\n",
       "      <th>recency</th>\n",
       "      <th>history</th>\n",
       "      <th>used_discount</th>\n",
       "      <th>used_bogo</th>\n",
       "      <th>is_referral</th>\n",
       "      <th>treatment</th>\n",
       "      <th>zip_code_Rural</th>\n",
       "      <th>zip_code_Surburban</th>\n",
       "      <th>zip_code_Urban</th>\n",
       "      <th>channel_Multichannel</th>\n",
       "      <th>channel_Phone</th>\n",
       "      <th>channel_Web</th>\n",
       "      <th>proba_CN</th>\n",
       "      <th>proba_CR</th>\n",
       "      <th>proba_TN</th>\n",
       "      <th>proba_TR</th>\n",
       "      <th>uplift_score</th>\n",
       "      <th>target_class</th>\n",
       "      <th>old_target</th>\n",
       "    </tr>\n",
       "  </thead>\n",
       "  <tbody>\n",
       "    <tr>\n",
       "      <th>309</th>\n",
       "      <td>10</td>\n",
       "      <td>95.49</td>\n",
       "      <td>0</td>\n",
       "      <td>1</td>\n",
       "      <td>1</td>\n",
       "      <td>1</td>\n",
       "      <td>1</td>\n",
       "      <td>0</td>\n",
       "      <td>0</td>\n",
       "      <td>0</td>\n",
       "      <td>0</td>\n",
       "      <td>1</td>\n",
       "      <td>0.385971</td>\n",
       "      <td>0.033124</td>\n",
       "      <td>0.501814</td>\n",
       "      <td>0.079090</td>\n",
       "      <td>0.114224</td>\n",
       "      <td>2</td>\n",
       "      <td>1</td>\n",
       "    </tr>\n",
       "    <tr>\n",
       "      <th>5927</th>\n",
       "      <td>6</td>\n",
       "      <td>293.78</td>\n",
       "      <td>1</td>\n",
       "      <td>1</td>\n",
       "      <td>1</td>\n",
       "      <td>0</td>\n",
       "      <td>0</td>\n",
       "      <td>1</td>\n",
       "      <td>0</td>\n",
       "      <td>0</td>\n",
       "      <td>0</td>\n",
       "      <td>1</td>\n",
       "      <td>0.522508</td>\n",
       "      <td>0.060261</td>\n",
       "      <td>0.311440</td>\n",
       "      <td>0.105791</td>\n",
       "      <td>0.300301</td>\n",
       "      <td>1</td>\n",
       "      <td>0</td>\n",
       "    </tr>\n",
       "    <tr>\n",
       "      <th>8778</th>\n",
       "      <td>6</td>\n",
       "      <td>29.99</td>\n",
       "      <td>0</td>\n",
       "      <td>1</td>\n",
       "      <td>1</td>\n",
       "      <td>0</td>\n",
       "      <td>0</td>\n",
       "      <td>1</td>\n",
       "      <td>0</td>\n",
       "      <td>0</td>\n",
       "      <td>0</td>\n",
       "      <td>1</td>\n",
       "      <td>0.453994</td>\n",
       "      <td>0.041645</td>\n",
       "      <td>0.437831</td>\n",
       "      <td>0.066529</td>\n",
       "      <td>0.095770</td>\n",
       "      <td>0</td>\n",
       "      <td>1</td>\n",
       "    </tr>\n",
       "    <tr>\n",
       "      <th>11331</th>\n",
       "      <td>5</td>\n",
       "      <td>467.42</td>\n",
       "      <td>1</td>\n",
       "      <td>1</td>\n",
       "      <td>0</td>\n",
       "      <td>0</td>\n",
       "      <td>0</td>\n",
       "      <td>0</td>\n",
       "      <td>1</td>\n",
       "      <td>0</td>\n",
       "      <td>1</td>\n",
       "      <td>0</td>\n",
       "      <td>0.405045</td>\n",
       "      <td>0.134821</td>\n",
       "      <td>0.225336</td>\n",
       "      <td>0.234798</td>\n",
       "      <td>0.521099</td>\n",
       "      <td>0</td>\n",
       "      <td>1</td>\n",
       "    </tr>\n",
       "    <tr>\n",
       "      <th>4924</th>\n",
       "      <td>2</td>\n",
       "      <td>326.64</td>\n",
       "      <td>1</td>\n",
       "      <td>0</td>\n",
       "      <td>0</td>\n",
       "      <td>1</td>\n",
       "      <td>0</td>\n",
       "      <td>0</td>\n",
       "      <td>1</td>\n",
       "      <td>0</td>\n",
       "      <td>1</td>\n",
       "      <td>0</td>\n",
       "      <td>0.514283</td>\n",
       "      <td>0.047125</td>\n",
       "      <td>0.370299</td>\n",
       "      <td>0.068294</td>\n",
       "      <td>0.143541</td>\n",
       "      <td>3</td>\n",
       "      <td>0</td>\n",
       "    </tr>\n",
       "  </tbody>\n",
       "</table>\n",
       "</div>"
      ],
      "text/plain": [
       "       recency  history  used_discount  used_bogo  is_referral  treatment  \\\n",
       "309         10    95.49              0          1            1          1   \n",
       "5927         6   293.78              1          1            1          0   \n",
       "8778         6    29.99              0          1            1          0   \n",
       "11331        5   467.42              1          1            0          0   \n",
       "4924         2   326.64              1          0            0          1   \n",
       "\n",
       "       zip_code_Rural  zip_code_Surburban  zip_code_Urban  \\\n",
       "309                 1                   0               0   \n",
       "5927                0                   1               0   \n",
       "8778                0                   1               0   \n",
       "11331               0                   0               1   \n",
       "4924                0                   0               1   \n",
       "\n",
       "       channel_Multichannel  channel_Phone  channel_Web  proba_CN  proba_CR  \\\n",
       "309                       0              0            1  0.385971  0.033124   \n",
       "5927                      0              0            1  0.522508  0.060261   \n",
       "8778                      0              0            1  0.453994  0.041645   \n",
       "11331                     0              1            0  0.405045  0.134821   \n",
       "4924                      0              1            0  0.514283  0.047125   \n",
       "\n",
       "       proba_TN  proba_TR  uplift_score  target_class  old_target  \n",
       "309    0.501814  0.079090      0.114224             2           1  \n",
       "5927   0.311440  0.105791      0.300301             1           0  \n",
       "8778   0.437831  0.066529      0.095770             0           1  \n",
       "11331  0.225336  0.234798      0.521099             0           1  \n",
       "4924   0.370299  0.068294      0.143541             3           0  "
      ]
     },
     "execution_count": 61,
     "metadata": {},
     "output_type": "execute_result"
    }
   ],
   "source": [
    "# загружаем необходимые библиотеки\n",
    "import numpy as np\n",
    "import pandas as pd\n",
    "import warnings\n",
    "\n",
    "from matplotlib import pyplot as plt\n",
    "from sklearn.model_selection import train_test_split\n",
    "\n",
    "warnings.filterwarnings('ignore')\n",
    "\n",
    "np.random.seed(1)\n",
    "\n",
    "%matplotlib inline\n",
    "# загружаем датафрейм\n",
    "df = pd.read_csv(\"datasets/discountuplift.csv\", sep=\"\\t\")\n",
    "\n",
    "# реализуем подсчёт Qini Score:\n",
    "def qini_df(df):\n",
    "    # отранжируем выборку по значению uplift в порядке убывания\n",
    "    ranked = df.sort_values(\"uplift_score\", ascending=False)\n",
    "    \n",
    "    N_c = sum(ranked['target_class'] <= 1)\n",
    "    N_t = sum(ranked['target_class'] >= 2)\n",
    "    \n",
    "    # посчитаем в отсортированном датафрейме основные показатели, \n",
    "    # которые используются при расчёте Qini Score\n",
    "    ranked['n_c1'] = 0\n",
    "    ranked['n_t1'] = 0\n",
    "    ranked.loc[ranked.target_class == 1,'n_c1'] = 1\n",
    "    ranked.loc[ranked.target_class == 3,'n_t1'] = 1\n",
    "    ranked['n_c1/nc'] = ranked.n_c1.cumsum() / N_c\n",
    "    ranked['n_t1/nt'] = ranked.n_t1.cumsum() / N_t\n",
    "    \n",
    "    # посчитаем qini-кривую и случайную прямую под ней\n",
    "    ranked['uplift'] = round(ranked['n_t1/nt'] - ranked['n_c1/nc'],5)\n",
    "    # добавим случайную кривую\n",
    "    ranked['random_uplift'] = round(ranked[\"uplift_score\"].rank(pct=True, ascending=False) * ranked['uplift'].iloc[-1],5)\n",
    "    \n",
    "    ranked[\"n\"] = ranked[\"uplift_score\"].rank(pct=True, ascending=False)\n",
    "    # немного кода для визуализации\n",
    "    plt.plot(ranked['n'], ranked['uplift'], color='r')\n",
    "    plt.plot(ranked['n'], ranked['random_uplift'], color='b')\n",
    "    plt.show()\n",
    "    \n",
    "    return (ranked['uplift'] - ranked['random_uplift']).sum()\n",
    " \n",
    "discount['old_target'] = (discount['target_class'] % 2 == 0).apply(int)\n",
    "\n",
    "feature_cols = ['recency', 'history', 'used_discount', 'used_bogo', 'is_referral',\n",
    "                'zip_code_Rural', 'zip_code_Surburban', 'zip_code_Urban',\n",
    "                'channel_Multichannel', 'channel_Phone', 'channel_Web']\n",
    "target_col = 'old_target'\n",
    "treatment_col = 'treatment'\n",
    "\n",
    "# разобъём нашу выборку на тестовую и валидационную\n",
    "df_train, df_test = train_test_split(discount, stratify=discount[[treatment_col, target_col]], random_state=1, test_size=0.25)\n",
    "df_train.head()"
   ]
  },
  {
   "cell_type": "markdown",
   "id": "1a4ccc4e-49bf-4260-85f3-16ad1b9f9ab3",
   "metadata": {},
   "source": [
    "## Задание\n",
    "Выполните базовый код, который загружает данные и строит нужные объекты.\n",
    "\n",
    "Дополните код, чтобы построить uplift-дерево и оценить, насколько хорошо оно работает на наших данных. Не меняйте параметры в `UpliftTreeClassifier`, чтобы получить верное значение.\n",
    "\n",
    "При предсказании uplift-эффекта, чтобы получить целевые предсказания, вам потребуется использовать индексацию. Сделать это нужно после функции, вызывающей предсказание модели. Необходимая вам индексация — `[:,1]`."
   ]
  },
  {
   "cell_type": "code",
   "execution_count": 62,
   "id": "f689b358-cf34-4a9a-87a0-40d5d6fe2b63",
   "metadata": {},
   "outputs": [],
   "source": [
    "# !pip install -q duecredit"
   ]
  },
  {
   "cell_type": "code",
   "execution_count": 63,
   "id": "b400e475-ca3a-4c3c-8c1b-449f7dfe6864",
   "metadata": {},
   "outputs": [],
   "source": [
    "from causalml.inference.tree import UpliftTreeClassifier\n",
    "\n",
    "# создадим базовое uplift-дерево\n",
    "uplift_model = UpliftTreeClassifier(\n",
    "    max_depth=5, min_samples_leaf=200, min_samples_treatment=50,\n",
    "    n_reg=100, evaluationFunction='ED', control_name='0')\n",
    "\n",
    "uplift_model.fit(\n",
    "    df_train[feature_cols].values,\n",
    "    treatment=df_train[treatment_col].apply(str).values,\n",
    "    y=df_train[target_col].values\n",
    ")"
   ]
  },
  {
   "cell_type": "code",
   "execution_count": 73,
   "id": "cb42e294-7f9e-452e-9023-811f7839918c",
   "metadata": {},
   "outputs": [],
   "source": [
    "# предскажите uplift-эффект\n",
    "uplift_vals = uplift_model.predict(np.array(df_test[feature_cols].values.copy()))[:,1]\n",
    "df_test['uplift_score'] = uplift_vals"
   ]
  },
  {
   "cell_type": "code",
   "execution_count": 74,
   "id": "e8b889f6-26db-4c7a-8b82-7c2afda9f251",
   "metadata": {},
   "outputs": [
    {
     "data": {
      "image/png": "[encoded data removed]",
      "text/plain": [
       "<Figure size 640x480 with 1 Axes>"
      ]
     },
     "metadata": {},
     "output_type": "display_data"
    },
    {
     "data": {
      "text/plain": [
       "22.393710000000002"
      ]
     },
     "execution_count": 74,
     "metadata": {},
     "output_type": "execute_result"
    }
   ],
   "source": [
    "# посчитаем метрики \n",
    "qini_df(df_test)"
   ]
  },
  {
   "cell_type": "markdown",
   "id": "7190c5eb-3fd5-4c91-b6e4-d621e6676f41",
   "metadata": {},
   "source": [
    "Вероятнее всего, что на этой задаче uplift-деревья отработали лучше всего. Почему? Тут есть один очень важный фактор, о котором мы не упоминали ранее, — используемые базовые модели. До этого были линейные модели, а теперь наглядно видно, что нелинейность сильно улучшает качество."
   ]
  },
  {
   "cell_type": "code",
   "execution_count": null,
   "id": "ecd092e2-35f9-49f1-9393-6735351cf270",
   "metadata": {},
   "outputs": [],
   "source": []
  }
 ],
 "metadata": {
  "kernelspec": {
   "display_name": "Python 3 (ipykernel)",
   "language": "python",
   "name": "python3"
  },
  "language_info": {
   "codemirror_mode": {
    "name": "ipython",
    "version": 3
   },
   "file_extension": ".py",
   "mimetype": "text/x-python",
   "name": "python",
   "nbconvert_exporter": "python",
   "pygments_lexer": "ipython3",
   "version": "3.10.12"
  }
 },
 "nbformat": 4,
 "nbformat_minor": 5
}
