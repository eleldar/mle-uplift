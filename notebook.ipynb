{
 "cells": [
  {
   "cell_type": "code",
   "execution_count": 1,
   "id": "5ada41ac-a133-4ce3-b4a1-9633bd444023",
   "metadata": {},
   "outputs": [],
   "source": [
    "# !pip install -q pandas\n",
    "# pip install -q matplotlib\n",
    "# !pip install -q scikit-learn"
   ]
  },
  {
   "cell_type": "markdown",
   "id": "9fd59f4e-e041-44c7-b91f-8abb422c7ed5",
   "metadata": {},
   "source": [
    "# Qini-кривая и оценка качества офлайн"
   ]
  },
  {
   "cell_type": "markdown",
   "id": "5f86cf84-3c60-43f9-8a5f-3ba76544101c",
   "metadata": {},
   "source": [
    "## Шаг 1: Сбор данных\n",
    "\n",
    "Предположим, у вас есть данные для 100 пользователей:\n",
    "- 50 пользователей получили рекламное предложение (группа воздействия).\n",
    "- 50 пользователей не получили предложение (контрольная группа)."
   ]
  },
  {
   "cell_type": "code",
   "execution_count": 2,
   "id": "41e771b7-fb0d-4ddf-878e-25e45d4e74ed",
   "metadata": {},
   "outputs": [
    {
     "name": "stdout",
     "output_type": "stream",
     "text": [
      "   user_id  treatment  outcome  uplift_prediction\n",
      "0        1          1        0           0.031429\n",
      "1        2          1        0           0.636410\n",
      "2        3          1        0           0.314356\n",
      "3        4          1        0           0.508571\n",
      "4        5          1        1           0.907566\n"
     ]
    }
   ],
   "source": [
    "import pandas as pd\n",
    "import numpy as np\n",
    "\n",
    "# генерация данных для 100 пользователей\n",
    "np.random.seed(42)\n",
    "n = 100\n",
    "treatment = np.array([1]*50 + [0]*50)\n",
    "outcome = np.concatenate([np.random.choice([1, 0], p=[0.2, 0.8], size=50),\n",
    "                          np.random.choice([1, 0], p=[0.1, 0.9], size=50)])\n",
    "uplift_prediction = np.random.rand(n)\n",
    "\n",
    "# создание DataFrame\n",
    "data = {\n",
    "    'user_id': range(1, n+1),\n",
    "    'treatment': treatment,  # получение рекламных предложений\n",
    "    'outcome': outcome,      # полученная реакция\n",
    "    'uplift_prediction': uplift_prediction\n",
    "}\n",
    "\n",
    "df = pd.DataFrame(data)\n",
    "print(df.head())"
   ]
  },
  {
   "cell_type": "code",
   "execution_count": 9,
   "id": "bd335053-064a-45d1-9d15-86015ccdccdf",
   "metadata": {},
   "outputs": [
    {
     "data": {
      "text/plain": [
       "np.int64(11)"
      ]
     },
     "execution_count": 9,
     "metadata": {},
     "output_type": "execute_result"
    }
   ],
   "source": [
    "np.random.choice([1, 0], p=[0.2, 0.8], size=50).sum()"
   ]
  },
  {
   "cell_type": "code",
   "execution_count": 10,
   "id": "8ff63f2f-a985-423f-889b-6355ee672208",
   "metadata": {},
   "outputs": [
    {
     "data": {
      "text/plain": [
       "np.int64(6)"
      ]
     },
     "execution_count": 10,
     "metadata": {},
     "output_type": "execute_result"
    }
   ],
   "source": [
    "np.random.choice([1, 0], p=[0.1, 0.9], size=50).sum()"
   ]
  },
  {
   "cell_type": "markdown",
   "id": "c79f0a97-7a9c-4835-aad8-b198e7e6fa70",
   "metadata": {},
   "source": [
    "## Шаг 2: Сортировка данных по uplift_prediction"
   ]
  },
  {
   "cell_type": "code",
   "execution_count": 4,
   "id": "d0629fd9-cf8d-48e7-abd8-d4f2785d82dd",
   "metadata": {},
   "outputs": [
    {
     "name": "stdout",
     "output_type": "stream",
     "text": [
      "   user_id  treatment  outcome  uplift_prediction\n",
      "0       55          0        0           0.985650\n",
      "1       40          1        0           0.971782\n",
      "2       41          1        1           0.962447\n",
      "3       35          1        0           0.942910\n",
      "4       79          0        0           0.936730\n"
     ]
    }
   ],
   "source": [
    "# сортировка данных по uplift_prediction\n",
    "df = (\n",
    "    df.sort_values(by='uplift_prediction', ascending=False)\n",
    "    .reset_index(drop=True)\n",
    ")\n",
    "print(df.head())"
   ]
  },
  {
   "cell_type": "markdown",
   "id": "75204c3f-8ea1-4ac2-9285-44b3c373cd97",
   "metadata": {},
   "source": [
    "## Шаг 3: Инициализация переменных для расчёта CGain и Random"
   ]
  },
  {
   "cell_type": "code",
   "execution_count": 5,
   "id": "c0c57144-cb69-4b8b-b1b6-0343f25d7c75",
   "metadata": {},
   "outputs": [],
   "source": [
    "# инициализация переменных\n",
    "nt = 0   # число точек, на которых было воздействие до заданной точки\n",
    "nt_1 = 0 # число точек, на которых были воздействия и реакция пользователя\n",
    "nc = 0   # число точек, на которых не было воздействие до заданной точки (c — control). \n",
    "nc_1 = 0 # число точек, на которых не было воздействия и реакции пользователя.\n",
    "cgain = [] # точка Qini-кривой, рассчитанная на заданном объекте выборк\n",
    "random = [] # результат применения случайной модели\n",
    "optimum = [] # максимальное значение uplift, которое мы можем получить на выборке.\n",
    "incremental_purchases = 0 # добавленные покупки\n",
    "opt_incremental_purchases = df['outcome'].sum() # максимально добавленные покупки"
   ]
  },
  {
   "cell_type": "code",
   "execution_count": 7,
   "id": "9f78d506-7e70-4e05-9795-1d6b7e40cc28",
   "metadata": {},
   "outputs": [
    {
     "data": {
      "text/plain": [
       "np.int64(22)"
      ]
     },
     "execution_count": 7,
     "metadata": {},
     "output_type": "execute_result"
    }
   ],
   "source": [
    "opt_incremental_purchases"
   ]
  },
  {
   "cell_type": "markdown",
   "id": "cbd38c16-6156-44ff-a9f3-f70bd1b48522",
   "metadata": {},
   "source": [
    "## Шаг 4: Расчёт CGain, Random и Optimum"
   ]
  },
  {
   "cell_type": "code",
   "execution_count": 6,
   "id": "2a2ffb0c-c12c-49dc-b75c-26c7652b4eec",
   "metadata": {},
   "outputs": [],
   "source": [
    "# расчёт CGain, Random и Optimum\n",
    "for i, row in df.iterrows():\n",
    "    if row['treatment'] == 1:\n",
    "        nt += 1\n",
    "        if row['outcome'] == 1:\n",
    "            nt_1 += 1\n",
    "            incremental_purchases += 1\n",
    "    else:\n",
    "        nc += 1\n",
    "        if row['outcome'] == 1:\n",
    "            nc_1 += 1\n",
    "\n",
    "    cgain.append(incremental_purchases)\n",
    "    random.append(opt_incremental_purchases * (i + 1) / len(df))\n",
    "    optimum.append(min(opt_incremental_purchases, (i + 1) * 1.0))"
   ]
  },
  {
   "cell_type": "markdown",
   "id": "f0aef24a-fa24-4c13-90ae-36e634ed2a76",
   "metadata": {},
   "source": [
    "## Шаг 5: Расчёт метрик"
   ]
  },
  {
   "cell_type": "code",
   "execution_count": 11,
   "id": "6736e1c8-5e6b-4d5f-8442-02e40c0b98de",
   "metadata": {},
   "outputs": [
    {
     "name": "stdout",
     "output_type": "stream",
     "text": [
      "Qini Score: -264.3900000000001\n"
     ]
    }
   ],
   "source": [
    "from sklearn.metrics import auc\n",
    "\n",
    "# расчёт площади под кривыми\n",
    "qini_auc = auc(range(1, len(cgain) + 1), cgain)\n",
    "random_auc = auc(range(1, len(random) + 1), random)\n",
    "\n",
    "# расчёт Qini Score\n",
    "qini_score = qini_auc - random_auc\n",
    "\n",
    "# вывод Qini Score\n",
    "print(f'Qini Score: {qini_score}') "
   ]
  },
  {
   "cell_type": "markdown",
   "id": "3cc3a4aa-9967-44bb-998e-e1c423c4d193",
   "metadata": {},
   "source": [
    "## Шаг 6: Построение графика"
   ]
  },
  {
   "cell_type": "code",
   "execution_count": 12,
   "id": "28500077-a375-46bf-b8a0-83032163fc7b",
   "metadata": {},
   "outputs": [
    {
     "data": {
      "image/png": "[encoded data removed]",
      "text/plain": [
       "<Figure size 1000x600 with 1 Axes>"
      ]
     },
     "metadata": {},
     "output_type": "display_data"
    }
   ],
   "source": [
    "import matplotlib.pyplot as plt\n",
    "\n",
    "# построение графиков\n",
    "plt.figure(figsize=(10, 6))\n",
    "plt.plot(range(1, len(cgain) + 1), cgain, label='Model', color='blue')\n",
    "plt.plot(range(1, len(random) + 1), random, label='Random', color='red', linestyle='--')\n",
    "plt.plot(range(1, len(optimum) + 1), optimum, label='Optimum', color='green', linestyle='--')\n",
    "plt.xlabel('Number of users targeted')\n",
    "plt.ylabel('Number of Incremental Purchases')\n",
    "plt.title('Gains Chart for Uplift (Qini Curve) with Random')\n",
    "plt.legend()\n",
    "plt.grid(True)\n",
    "plt.show()"
   ]
  },
  {
   "cell_type": "markdown",
   "id": "84702e07-28c3-462c-9439-e61054fe1eab",
   "metadata": {},
   "source": [
    "## Задание\n",
    "\n",
    "Ниже приведён код для отрисовки Qini-кривой. Дополните его и посчитайте Qini Score (площадь под кривой). \n",
    "\n",
    "Данные можете взять отсюда: `https://storage.yandexcloud.net/mle-data/sprint-5/discountuplift.csv`.\n",
    "\n",
    "В данном датасете нас интересуют 2 колонки: `uplift_score` и `target_class`.\n",
    "\n",
    "Расшифровка `target_class`:\n",
    "\n",
    "- `0` — контрольная выборка, не купили товар ($y_c=0$, в наших терминах)\n",
    "- `1` — контрольная выборка, купили товар ($y_c=1$, в наших терминах)\n",
    "- `2` — выборка с воздействием (скидка), не купили товар ($y_t=0$, в наших терминах);\n",
    "- `3` — выборка с воздействием (скидка), купили товар ($y_t=1$, в наших терминах).\n"
   ]
  },
  {
   "cell_type": "code",
   "execution_count": 13,
   "id": "5f035c3c-49f0-4523-bf0f-e8ceb2c87ecf",
   "metadata": {},
   "outputs": [],
   "source": [
    "# !mkdir datasets\n",
    "# !wget https://storage.yandexcloud.net/mle-data/sprint-5/discountuplift.csv\n",
    "# !mv discountuplift.csv datasets"
   ]
  },
  {
   "cell_type": "code",
   "execution_count": 20,
   "id": "012997b2-f5b8-482c-8052-33cee0891d5f",
   "metadata": {},
   "outputs": [
    {
     "data": {
      "text/html": [
       "<div>\n",
       "<style scoped>\n",
       "    .dataframe tbody tr th:only-of-type {\n",
       "        vertical-align: middle;\n",
       "    }\n",
       "\n",
       "    .dataframe tbody tr th {\n",
       "        vertical-align: top;\n",
       "    }\n",
       "\n",
       "    .dataframe thead th {\n",
       "        text-align: right;\n",
       "    }\n",
       "</style>\n",
       "<table border=\"1\" class=\"dataframe\">\n",
       "  <thead>\n",
       "    <tr style=\"text-align: right;\">\n",
       "      <th></th>\n",
       "      <th>recency</th>\n",
       "      <th>history</th>\n",
       "      <th>used_discount</th>\n",
       "      <th>used_bogo</th>\n",
       "      <th>is_referral</th>\n",
       "      <th>treatment</th>\n",
       "      <th>zip_code_Rural</th>\n",
       "      <th>zip_code_Surburban</th>\n",
       "      <th>zip_code_Urban</th>\n",
       "      <th>channel_Multichannel</th>\n",
       "      <th>channel_Phone</th>\n",
       "      <th>channel_Web</th>\n",
       "      <th>proba_CN</th>\n",
       "      <th>proba_CR</th>\n",
       "      <th>proba_TN</th>\n",
       "      <th>proba_TR</th>\n",
       "      <th>uplift_score</th>\n",
       "      <th>target_class</th>\n",
       "    </tr>\n",
       "  </thead>\n",
       "  <tbody>\n",
       "    <tr>\n",
       "      <th>9948</th>\n",
       "      <td>1</td>\n",
       "      <td>186.66</td>\n",
       "      <td>0</td>\n",
       "      <td>1</td>\n",
       "      <td>1</td>\n",
       "      <td>1</td>\n",
       "      <td>1</td>\n",
       "      <td>0</td>\n",
       "      <td>0</td>\n",
       "      <td>0</td>\n",
       "      <td>0</td>\n",
       "      <td>1</td>\n",
       "      <td>0.417925</td>\n",
       "      <td>0.166987</td>\n",
       "      <td>0.279740</td>\n",
       "      <td>0.135348</td>\n",
       "      <td>0.081161</td>\n",
       "      <td>2</td>\n",
       "    </tr>\n",
       "    <tr>\n",
       "      <th>2002</th>\n",
       "      <td>8</td>\n",
       "      <td>508.14</td>\n",
       "      <td>1</td>\n",
       "      <td>1</td>\n",
       "      <td>1</td>\n",
       "      <td>1</td>\n",
       "      <td>0</td>\n",
       "      <td>1</td>\n",
       "      <td>0</td>\n",
       "      <td>0</td>\n",
       "      <td>1</td>\n",
       "      <td>0</td>\n",
       "      <td>0.528632</td>\n",
       "      <td>0.061418</td>\n",
       "      <td>0.308849</td>\n",
       "      <td>0.101101</td>\n",
       "      <td>0.285057</td>\n",
       "      <td>2</td>\n",
       "    </tr>\n",
       "    <tr>\n",
       "      <th>3045</th>\n",
       "      <td>9</td>\n",
       "      <td>286.62</td>\n",
       "      <td>0</td>\n",
       "      <td>1</td>\n",
       "      <td>1</td>\n",
       "      <td>1</td>\n",
       "      <td>0</td>\n",
       "      <td>0</td>\n",
       "      <td>1</td>\n",
       "      <td>0</td>\n",
       "      <td>0</td>\n",
       "      <td>1</td>\n",
       "      <td>0.567822</td>\n",
       "      <td>0.022656</td>\n",
       "      <td>0.348541</td>\n",
       "      <td>0.060981</td>\n",
       "      <td>0.221080</td>\n",
       "      <td>2</td>\n",
       "    </tr>\n",
       "  </tbody>\n",
       "</table>\n",
       "</div>"
      ],
      "text/plain": [
       "      recency  history  used_discount  used_bogo  is_referral  treatment  \\\n",
       "9948        1   186.66              0          1            1          1   \n",
       "2002        8   508.14              1          1            1          1   \n",
       "3045        9   286.62              0          1            1          1   \n",
       "\n",
       "      zip_code_Rural  zip_code_Surburban  zip_code_Urban  \\\n",
       "9948               1                   0               0   \n",
       "2002               0                   1               0   \n",
       "3045               0                   0               1   \n",
       "\n",
       "      channel_Multichannel  channel_Phone  channel_Web  proba_CN  proba_CR  \\\n",
       "9948                     0              0            1  0.417925  0.166987   \n",
       "2002                     0              1            0  0.528632  0.061418   \n",
       "3045                     0              0            1  0.567822  0.022656   \n",
       "\n",
       "      proba_TN  proba_TR  uplift_score  target_class  \n",
       "9948  0.279740  0.135348      0.081161             2  \n",
       "2002  0.308849  0.101101      0.285057             2  \n",
       "3045  0.348541  0.060981      0.221080             2  "
      ]
     },
     "execution_count": 20,
     "metadata": {},
     "output_type": "execute_result"
    }
   ],
   "source": [
    "# загружаем необходимые библиотеки\n",
    "import numpy as np\n",
    "import pandas as pd\n",
    "from matplotlib import pyplot as plt\n",
    "import warnings\n",
    "warnings.filterwarnings('ignore')\n",
    "\n",
    "%matplotlib inline\n",
    "# загружаем DataFrame\n",
    "discount = pd.read_csv(\"datasets/discountuplift.csv\", sep=\"\\t\")\n",
    "discount.sample(3, random_state=42)"
   ]
  },
  {
   "cell_type": "code",
   "execution_count": 70,
   "id": "6208be39-a1e3-44ea-8fa4-c20dc9f81189",
   "metadata": {},
   "outputs": [
    {
     "data": {
      "image/png": "[encoded data removed]",
      "text/plain": [
       "<Figure size 640x480 with 1 Axes>"
      ]
     },
     "metadata": {},
     "output_type": "display_data"
    },
    {
     "data": {
      "text/plain": [
       "np.float64(33.22356)"
      ]
     },
     "execution_count": 70,
     "metadata": {},
     "output_type": "execute_result"
    }
   ],
   "source": [
    "# реализуем подсчёт Qini Score:\n",
    "def qini_df(df):\n",
    "    # 1. Отранжируем выборку по значению uplift в порядке убывания\n",
    "    ranked = df.sort_values(by='uplift_score', ascending=False).reset_index(drop=True) # Ваш код здесь\n",
    "    \n",
    "    N_c = sum(ranked['target_class'] <= 1)\n",
    "    N_t = sum(ranked['target_class'] >= 2)\n",
    "    \n",
    "    # посчитаем в отсортированном датафрейме основные показатели, \n",
    "    # которые используются при расчёте Qini Score\n",
    "    ranked['n_c1'] = 0\n",
    "    ranked['n_t1'] = 0\n",
    "    ranked.loc[ranked.target_class == 1,'n_c1'] = 1\n",
    "    ranked.loc[ranked.target_class == 3,'n_t1'] = 1\n",
    "    ranked['n_c1/nc'] = ranked.n_c1.cumsum() / N_c\n",
    "    ranked['n_t1/nt'] = ranked.n_t1.cumsum() / N_t\n",
    "    \n",
    "    # посчитаем Qini-кривую и случайную прямую под ней\n",
    "    ranked['uplift'] = ranked['n_t1/nt'] - ranked['n_c1/nc'] # Ваш код здесь\n",
    "    # добавим случайную кривую\n",
    "    end_point = ranked['uplift'].tail(1).values[0]\n",
    "    ranked['random_uplift'] = np.linspace(0, end_point, ranked.shape[0]) # Ваш код здесь\n",
    "    ranked[\"n\"] = np.arange(ranked.shape[0]) # Ваш код здесь\n",
    "    # немного кода для визуализации\n",
    "    plt.plot(ranked['n'], ranked['uplift'], color='r')\n",
    "    plt.plot(ranked['n'], ranked['random_uplift'], color='b')\n",
    "    plt.show()\n",
    "    \n",
    "    return (ranked['uplift'] - ranked['random_uplift']).sum()\n",
    "\n",
    "qini_df(discount).round(5)"
   ]
  },
  {
   "cell_type": "markdown",
   "id": "2104bd97-3650-42f0-8e3c-91b4fc7373cb",
   "metadata": {},
   "source": [
    "Это значит, что ваша модель лучше модели случайного воздействия (Qini Score положительный) — Baseline для других моделей создан. \n",
    "\n",
    "Итак, вы разобрались, как оценивать офлайн-качество uplift-моделей по их предсказанию. Дальше мы расскажем о том, как собрать выборку для правильной оценки качества, а также о том, как проводить A/B-тесты онлайн в случае uplift-моделирования."
   ]
  },
  {
   "cell_type": "markdown",
   "id": "ccd70cfb-ac25-4e7f-bdcf-46582d180798",
   "metadata": {},
   "source": [
    "# A/B-тесты и оценка качества онлайн"
   ]
  },
  {
   "cell_type": "code",
   "execution_count": null,
   "id": "af8a8faa-d0f0-4d28-a291-459619b0124a",
   "metadata": {},
   "outputs": [],
   "source": []
  },
  {
   "cell_type": "code",
   "execution_count": null,
   "id": "1d63f994-12e2-4778-a3ca-e859169f1743",
   "metadata": {},
   "outputs": [],
   "source": []
  }
 ],
 "metadata": {
  "kernelspec": {
   "display_name": "Python 3 (ipykernel)",
   "language": "python",
   "name": "python3"
  },
  "language_info": {
   "codemirror_mode": {
    "name": "ipython",
    "version": 3
   },
   "file_extension": ".py",
   "mimetype": "text/x-python",
   "name": "python",
   "nbconvert_exporter": "python",
   "pygments_lexer": "ipython3",
   "version": "3.10.12"
  }
 },
 "nbformat": 4,
 "nbformat_minor": 5
}
